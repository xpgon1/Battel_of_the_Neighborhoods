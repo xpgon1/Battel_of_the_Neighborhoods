{
 "cells": [
  {
   "cell_type": "markdown",
   "id": "ef9af715",
   "metadata": {},
   "source": [
    "# Battle of the Neighborhoods\n",
    "\n",
    "- **Coursera Capstone Project**\n",
    "\n",
    "This notebook foucses on collecting and clean the required data for clustering the suburbs in Metropolitan Melbourne. "
   ]
  },
  {
   "cell_type": "markdown",
   "id": "05b99001",
   "metadata": {},
   "source": [
    "## 1. Introduction"
   ]
  },
  {
   "cell_type": "markdown",
   "id": "420d3f04",
   "metadata": {},
   "source": [
    "A start-up company plans to expand and grow their business in **Australia** in the next five years. The company is planning to establish their headquarter office in `Docklands, Victoria`. Furthermore, twenty of the senior-level employees will be asked to relocate to Melbourne and supervise the progress of this business establishment. \n",
    "\n",
    "As a part of the plan, the company will provide accommodations to their senior-level employees to help them transit into new location seamlessly and reduce the negative influence of relocation on their work efficiency. \n",
    "According to the company's founders, their selection criteria of accommodations' locations must be in the suburbs with a few features shown as below:\n",
    "\n",
    "- 15kms in radius distance or equivalently 30mins travel time to the office during peak hours (Office will be in Docklands, VIC 3008)\n",
    "- An affordable rental price with a large volume of rental properties available in the market\n",
    "- Low crime incidents and minimize assaulting class crime\n",
    "- Easy to access venues such as restaurants, cafe, and parks.\n",
    "\n",
    "After a few rounds of consultation with the company, the objective of this data science project has been established. The objective is to use clustering to categorize the suburbs in Metropolitan Melbourne regarding **crimes**, **venues**, and **rental status** . A feature evaluation will be carried out for each set of cluster. Finally, the  cluster with the desired features will be recommended to the company as suitable accommodations locations. \n"
   ]
  },
  {
   "cell_type": "markdown",
   "id": "8f9ba5e0",
   "metadata": {},
   "source": [
    "## 2. Datasets"
   ]
  },
  {
   "cell_type": "markdown",
   "id": "6905250d",
   "metadata": {},
   "source": [
    "In this project, all data was collected from free and public available datasets. \n",
    "\n",
    "**Data Requirements**\n",
    "\n",
    "Based on the project's objective, the datasets used in this project will cover the following sectors:\n",
    "\n",
    "- General information by suburb including name, postcode, coordinates, and council which it belongs to\n",
    "- Types of crime incidents and their frequencies recorded by suburb\n",
    "- Number of rental properties available and their median prices by suburb\n",
    "- Categories of venues and their numbers by suburb\n",
    "\n",
    "\n",
    "**Data Source**\n",
    "\n",
    "- General information of suburbs in Metropolitan Melbourne (https://en.wikipedia.org/wiki/List_of_Melbourne_suburbs)\n",
    "- Nominatim API to extract geographical coordinates of each suburb (https://nominatim.org/release-docs/develop/api/Overview/) \n",
    "- Crime Statistics Agency Data Tables - Criminal Incidents (https://discover.data.vic.gov.au/dataset/crime-by-location-data-table)\n",
    "- Rental Report - Quarterly: Moving Annual Rents by Suburb (https://discover.data.vic.gov.au/dataset/rental-report-quarterly-moving-annual-rents-by-suburb)\n",
    "- Foursquare API to extract venues information (https://developer.foursquare.com/docs/places-api/)"
   ]
  },
  {
   "cell_type": "markdown",
   "id": "05522477",
   "metadata": {},
   "source": [
    "#### Setup the environment"
   ]
  },
  {
   "cell_type": "code",
   "execution_count": 1,
   "id": "e0934e5d",
   "metadata": {},
   "outputs": [],
   "source": [
    "import numpy as np\n",
    "import pandas as pd\n",
    "import matplotlib as mp\n",
    "import matplotlib.pyplot as plt\n",
    "from bs4 import BeautifulSoup\n",
    "import requests\n",
    "import re\n",
    "import urllib.parse\n",
    "import os\n",
    "\n",
    "DATASETS_PATH = './datasets/processed_data'"
   ]
  },
  {
   "cell_type": "markdown",
   "id": "d6a769ab",
   "metadata": {},
   "source": [
    "## 3. Collect and Clean Datasets"
   ]
  },
  {
   "cell_type": "markdown",
   "id": "4090cb07",
   "metadata": {},
   "source": [
    "In this section, the main objective is to collect and prepare four datasets namely `geographical` dataset, `crime record` dataset, `rental` dataset, and `venue` dataset. In the later work, the datasets are implemented in conjunction with machine leaning models to explore the characteristics of suburbs in Metropolitan Melbourne. Accordingly, the results are used to determine the suitable suburbs for the client which meet their requirements. \n"
   ]
  },
  {
   "cell_type": "markdown",
   "id": "e62894b2",
   "metadata": {},
   "source": [
    "### Metropolitan Melbourne Geographical Dataset"
   ]
  },
  {
   "cell_type": "markdown",
   "id": "88e83a7b",
   "metadata": {},
   "source": [
    "In this section, the goal is to collect the geographical data of Metropolitan Melbourne.\n",
    "\n",
    "Objective 1: accquire `name`, `postcodes`, and `councils` for suburbs in Metropolitan Melbourne based on the information in reference(https://en.wikipedia.org/wiki/List_of_Melbourne_suburbs)\n",
    "\n",
    "Objective 2: collect `latitude` and `longitude` for each suburb using Nominatim API"
   ]
  },
  {
   "cell_type": "code",
   "execution_count": 2,
   "id": "4f7330b9",
   "metadata": {},
   "outputs": [],
   "source": [
    "MELBOURNE_URL = 'https://en.wikipedia.org/wiki/List_of_Melbourne_suburbs'\n",
    "html_content = requests.get(MELBOURNE_URL).text\n",
    "soup_melbourne_suburb = BeautifulSoup(html_content, 'html.parser')"
   ]
  },
  {
   "cell_type": "code",
   "execution_count": 3,
   "id": "40d707cc",
   "metadata": {
    "scrolled": false
   },
   "outputs": [],
   "source": [
    "# define a function that extract and clean the information in MELBOURNE_URL \n",
    "def htmlscraper(soup):\n",
    "    html = soup.find_all(['h3','ul'])\n",
    "    melbourne_data = []\n",
    "    council=[]\n",
    "    for item in html:\n",
    "        if item.name == 'h3':\n",
    "            council = re.findall(r'\\b[A-Z]\\w+? of \\b[A-Z,a-z, ]*',item.get_text())\n",
    "            if council:\n",
    "                pocket_council = council\n",
    "\n",
    "        elif item.name == 'ul' and council:\n",
    "            html_lis = item.find_all('li')\n",
    "            for i in range(len(html_lis)):\n",
    "                temp = html_lis[i].get_text()\n",
    "                suburb = re.findall(r'\\b[A-Z,a-z, ]* \\d{4}', temp)\n",
    "                if suburb and len(suburb[0]) < 40:\n",
    "                    suburb = suburb[0].split(' ')\n",
    "                    suburb_name = ''\n",
    "                    for j in range(len(suburb)-1):\n",
    "                        suburb_name += suburb[j]\n",
    "\n",
    "                        if j == (len(suburb)-2):\n",
    "                            break\n",
    "\n",
    "                        suburb_name += ' '\n",
    "                    temp_list = [suburb_name,suburb[-1]]\n",
    "                    temp_list.append(pocket_council[0])\n",
    "                    melbourne_data.append(temp_list)   \n",
    "    return melbourne_data"
   ]
  },
  {
   "cell_type": "code",
   "execution_count": 4,
   "id": "54cfa5a0",
   "metadata": {},
   "outputs": [],
   "source": [
    "melbourne_data = htmlscraper(soup_melbourne_suburb)"
   ]
  },
  {
   "cell_type": "code",
   "execution_count": 5,
   "id": "c1f497a3",
   "metadata": {},
   "outputs": [
    {
     "data": {
      "text/html": [
       "<div>\n",
       "<style scoped>\n",
       "    .dataframe tbody tr th:only-of-type {\n",
       "        vertical-align: middle;\n",
       "    }\n",
       "\n",
       "    .dataframe tbody tr th {\n",
       "        vertical-align: top;\n",
       "    }\n",
       "\n",
       "    .dataframe thead th {\n",
       "        text-align: right;\n",
       "    }\n",
       "</style>\n",
       "<table border=\"1\" class=\"dataframe\">\n",
       "  <thead>\n",
       "    <tr style=\"text-align: right;\">\n",
       "      <th></th>\n",
       "      <th>Suburb</th>\n",
       "      <th>Postcode</th>\n",
       "      <th>Council</th>\n",
       "    </tr>\n",
       "  </thead>\n",
       "  <tbody>\n",
       "    <tr>\n",
       "      <th>0</th>\n",
       "      <td>Carlton</td>\n",
       "      <td>3053</td>\n",
       "      <td>City of Melbourne</td>\n",
       "    </tr>\n",
       "    <tr>\n",
       "      <th>1</th>\n",
       "      <td>Carlton North</td>\n",
       "      <td>3054</td>\n",
       "      <td>City of Melbourne</td>\n",
       "    </tr>\n",
       "    <tr>\n",
       "      <th>2</th>\n",
       "      <td>Docklands</td>\n",
       "      <td>3008</td>\n",
       "      <td>City of Melbourne</td>\n",
       "    </tr>\n",
       "    <tr>\n",
       "      <th>3</th>\n",
       "      <td>East Melbourne</td>\n",
       "      <td>3002</td>\n",
       "      <td>City of Melbourne</td>\n",
       "    </tr>\n",
       "    <tr>\n",
       "      <th>4</th>\n",
       "      <td>Flemington</td>\n",
       "      <td>3031</td>\n",
       "      <td>City of Melbourne</td>\n",
       "    </tr>\n",
       "  </tbody>\n",
       "</table>\n",
       "</div>"
      ],
      "text/plain": [
       "           Suburb Postcode            Council\n",
       "0         Carlton     3053  City of Melbourne\n",
       "1   Carlton North     3054  City of Melbourne\n",
       "2       Docklands     3008  City of Melbourne\n",
       "3  East Melbourne     3002  City of Melbourne\n",
       "4      Flemington     3031  City of Melbourne"
      ]
     },
     "execution_count": 5,
     "metadata": {},
     "output_type": "execute_result"
    }
   ],
   "source": [
    "# create a dataframe for melbourne suburbs\n",
    "melbourne_df = pd.DataFrame(melbourne_data,columns=['Suburb','Postcode','Council'])\n",
    "melbourne_df.head()"
   ]
  },
  {
   "cell_type": "code",
   "execution_count": 6,
   "id": "2d861aaf",
   "metadata": {},
   "outputs": [
    {
     "data": {
      "text/plain": [
       "(585, 3)"
      ]
     },
     "execution_count": 6,
     "metadata": {},
     "output_type": "execute_result"
    }
   ],
   "source": [
    "melbourne_df.shape"
   ]
  },
  {
   "cell_type": "code",
   "execution_count": 7,
   "id": "5a5f36c1",
   "metadata": {},
   "outputs": [
    {
     "data": {
      "text/html": [
       "<div>\n",
       "<style scoped>\n",
       "    .dataframe tbody tr th:only-of-type {\n",
       "        vertical-align: middle;\n",
       "    }\n",
       "\n",
       "    .dataframe tbody tr th {\n",
       "        vertical-align: top;\n",
       "    }\n",
       "\n",
       "    .dataframe thead th {\n",
       "        text-align: right;\n",
       "    }\n",
       "</style>\n",
       "<table border=\"1\" class=\"dataframe\">\n",
       "  <thead>\n",
       "    <tr style=\"text-align: right;\">\n",
       "      <th></th>\n",
       "      <th>Suburb</th>\n",
       "      <th>Postcode</th>\n",
       "      <th>Council</th>\n",
       "    </tr>\n",
       "  </thead>\n",
       "  <tbody>\n",
       "    <tr>\n",
       "      <th>0</th>\n",
       "      <td>October</td>\n",
       "      <td>2007</td>\n",
       "      <td>City of Wyndham</td>\n",
       "    </tr>\n",
       "    <tr>\n",
       "      <th>1</th>\n",
       "      <td>Use dmy dates from October</td>\n",
       "      <td>2012</td>\n",
       "      <td>City of Wyndham</td>\n",
       "    </tr>\n",
       "    <tr>\n",
       "      <th>2</th>\n",
       "      <td>Melbourne</td>\n",
       "      <td>3000</td>\n",
       "      <td>City of Melbourne</td>\n",
       "    </tr>\n",
       "    <tr>\n",
       "      <th>3</th>\n",
       "      <td>East Melbourne</td>\n",
       "      <td>3002</td>\n",
       "      <td>City of Melbourne</td>\n",
       "    </tr>\n",
       "    <tr>\n",
       "      <th>4</th>\n",
       "      <td>West Melbourne</td>\n",
       "      <td>3003</td>\n",
       "      <td>City of Melbourne</td>\n",
       "    </tr>\n",
       "  </tbody>\n",
       "</table>\n",
       "</div>"
      ],
      "text/plain": [
       "                       Suburb Postcode            Council\n",
       "0                     October     2007    City of Wyndham\n",
       "1  Use dmy dates from October     2012    City of Wyndham\n",
       "2                   Melbourne     3000  City of Melbourne\n",
       "3              East Melbourne     3002  City of Melbourne\n",
       "4              West Melbourne     3003  City of Melbourne"
      ]
     },
     "execution_count": 7,
     "metadata": {},
     "output_type": "execute_result"
    }
   ],
   "source": [
    "# sort the dataset based on postcodes\n",
    "melbourne_df = melbourne_df.sort_values('Postcode').reset_index(drop=True)\n",
    "melbourne_df.head()"
   ]
  },
  {
   "cell_type": "code",
   "execution_count": 8,
   "id": "61f67fe9",
   "metadata": {},
   "outputs": [
    {
     "data": {
      "text/html": [
       "<div>\n",
       "<style scoped>\n",
       "    .dataframe tbody tr th:only-of-type {\n",
       "        vertical-align: middle;\n",
       "    }\n",
       "\n",
       "    .dataframe tbody tr th {\n",
       "        vertical-align: top;\n",
       "    }\n",
       "\n",
       "    .dataframe thead th {\n",
       "        text-align: right;\n",
       "    }\n",
       "</style>\n",
       "<table border=\"1\" class=\"dataframe\">\n",
       "  <thead>\n",
       "    <tr style=\"text-align: right;\">\n",
       "      <th></th>\n",
       "      <th>Suburb</th>\n",
       "      <th>Postcode</th>\n",
       "      <th>Council</th>\n",
       "    </tr>\n",
       "  </thead>\n",
       "  <tbody>\n",
       "    <tr>\n",
       "      <th>0</th>\n",
       "      <td>Melbourne</td>\n",
       "      <td>3000</td>\n",
       "      <td>City of Melbourne</td>\n",
       "    </tr>\n",
       "    <tr>\n",
       "      <th>1</th>\n",
       "      <td>East Melbourne</td>\n",
       "      <td>3002</td>\n",
       "      <td>City of Melbourne</td>\n",
       "    </tr>\n",
       "    <tr>\n",
       "      <th>2</th>\n",
       "      <td>West Melbourne</td>\n",
       "      <td>3003</td>\n",
       "      <td>City of Melbourne</td>\n",
       "    </tr>\n",
       "    <tr>\n",
       "      <th>3</th>\n",
       "      <td>Melbourne</td>\n",
       "      <td>3004</td>\n",
       "      <td>City of Melbourne</td>\n",
       "    </tr>\n",
       "    <tr>\n",
       "      <th>4</th>\n",
       "      <td>Melbourne</td>\n",
       "      <td>3004</td>\n",
       "      <td>City of Port Phillip</td>\n",
       "    </tr>\n",
       "  </tbody>\n",
       "</table>\n",
       "</div>"
      ],
      "text/plain": [
       "           Suburb Postcode               Council\n",
       "0       Melbourne     3000     City of Melbourne\n",
       "1  East Melbourne     3002     City of Melbourne\n",
       "2  West Melbourne     3003     City of Melbourne\n",
       "3       Melbourne     3004     City of Melbourne\n",
       "4       Melbourne     3004  City of Port Phillip"
      ]
     },
     "execution_count": 8,
     "metadata": {},
     "output_type": "execute_result"
    }
   ],
   "source": [
    "# delete the first two rows in the dataset \n",
    "melbourne_df = melbourne_df.drop(index=[0,1]).reset_index(drop=True)\n",
    "melbourne_df.head()"
   ]
  },
  {
   "cell_type": "code",
   "execution_count": 9,
   "id": "5b07a348",
   "metadata": {},
   "outputs": [
    {
     "data": {
      "text/plain": [
       "(583, 3)"
      ]
     },
     "execution_count": 9,
     "metadata": {},
     "output_type": "execute_result"
    }
   ],
   "source": [
    "melbourne_df.shape"
   ]
  },
  {
   "cell_type": "code",
   "execution_count": 10,
   "id": "3bae9216",
   "metadata": {
    "scrolled": true
   },
   "outputs": [
    {
     "name": "stdout",
     "output_type": "stream",
     "text": [
      "<class 'pandas.core.frame.DataFrame'>\n",
      "RangeIndex: 583 entries, 0 to 582\n",
      "Data columns (total 3 columns):\n",
      " #   Column    Non-Null Count  Dtype \n",
      "---  ------    --------------  ----- \n",
      " 0   Suburb    583 non-null    object\n",
      " 1   Postcode  583 non-null    object\n",
      " 2   Council   583 non-null    object\n",
      "dtypes: object(3)\n",
      "memory usage: 13.8+ KB\n"
     ]
    }
   ],
   "source": [
    "# check the info of dataset\n",
    "melbourne_df.info()"
   ]
  },
  {
   "cell_type": "code",
   "execution_count": 11,
   "id": "30065135",
   "metadata": {},
   "outputs": [
    {
     "data": {
      "text/plain": [
       "dtype('int64')"
      ]
     },
     "execution_count": 11,
     "metadata": {},
     "output_type": "execute_result"
    }
   ],
   "source": [
    "# change the data type of postcode for later work\n",
    "melbourne_df['Postcode'] = melbourne_df['Postcode'].astype('int64')\n",
    "melbourne_df['Postcode'].dtype"
   ]
  },
  {
   "cell_type": "code",
   "execution_count": 12,
   "id": "4b3afa72",
   "metadata": {},
   "outputs": [],
   "source": [
    "missed_suburbs = [['Prahran', 3181, 'City of Stonnington'],\n",
    "        ['Malvern', 3144, 'City of Stonnington'],\n",
    "        ['Mont Albert North', 3129, 'City of Whitehorse'],\n",
    "        ['Fraser Rise', 3336, 'City of Melton'],\n",
    "        ['Deanside', 3336, 'City of Melton'],\n",
    "        ['Taylors Hill', 3037, 'City of Melton'],\n",
    "        ['Fieldstone', 3024, 'City of Melton'],\n",
    "        ['Grangefields', 3335, 'City of Melton'],\n",
    "        ['Harkness', 3337, 'City of Melton'],\n",
    "        ['Strathtulloh', 3338, 'City of Melton'],\n",
    "        ['Weir Views', 3338, 'City of Melton'],\n",
    "        ['Thornhill Park', 3335, 'City of Melton'],\n",
    "        ['Cobblebank', 3338, 'City of Melton'],\n",
    "        ['Aintree', 3336, 'City of Melton']]"
   ]
  },
  {
   "cell_type": "code",
   "execution_count": 13,
   "id": "5b70afcb",
   "metadata": {},
   "outputs": [],
   "source": [
    "missed_suburbs_df = pd.DataFrame(missed_suburbs, columns=['Suburb', 'Postcode','Council'])"
   ]
  },
  {
   "cell_type": "code",
   "execution_count": 14,
   "id": "64aaa29b",
   "metadata": {},
   "outputs": [
    {
     "data": {
      "text/plain": [
       "(597, 3)"
      ]
     },
     "execution_count": 14,
     "metadata": {},
     "output_type": "execute_result"
    }
   ],
   "source": [
    "melbourne_df = melbourne_df.append(missed_suburbs_df, ignore_index=True)\n",
    "melbourne_df.shape"
   ]
  },
  {
   "cell_type": "markdown",
   "id": "c79b08f7",
   "metadata": {},
   "source": [
    "The preliminary study indicated that a suburb in Melbourne can be shared with multiple councils. Therefore, we need to check if there is any `duplicated entry` in Suburb with the same Postcode,"
   ]
  },
  {
   "cell_type": "code",
   "execution_count": 15,
   "id": "cf067f7f",
   "metadata": {
    "scrolled": false
   },
   "outputs": [
    {
     "data": {
      "text/plain": [
       "Tullamarine       3\n",
       "Melbourne         3\n",
       "Bundoora          3\n",
       "Cheltenham        2\n",
       "Mount Cottrell    2\n",
       "                 ..\n",
       "Yellingbo         1\n",
       "West Melbourne    1\n",
       "Avonsleigh        1\n",
       "Toorak            1\n",
       "Mount Burnett     1\n",
       "Name: Suburb, Length: 545, dtype: int64"
      ]
     },
     "execution_count": 15,
     "metadata": {},
     "output_type": "execute_result"
    }
   ],
   "source": [
    "melbourne_df.Suburb.value_counts()"
   ]
  },
  {
   "cell_type": "code",
   "execution_count": 16,
   "id": "a5bdc63a",
   "metadata": {},
   "outputs": [
    {
     "data": {
      "text/plain": [
       "Melbourne          2\n",
       "Brighton East      1\n",
       "Travancore         1\n",
       "Endeavour Hills    1\n",
       "Melton West        1\n",
       "                  ..\n",
       "Seville            1\n",
       "Warrandyte         1\n",
       "Wildwood           1\n",
       "Camberwell         1\n",
       "Mount Burnett      1\n",
       "Name: Suburb, Length: 545, dtype: int64"
      ]
     },
     "execution_count": 16,
     "metadata": {},
     "output_type": "execute_result"
    }
   ],
   "source": [
    "# delete duplicates in dataset\n",
    "melbourne_df_non_dup = melbourne_df.drop_duplicates(['Suburb','Postcode']).reset_index(drop=True)\n",
    "melbourne_df_non_dup.Suburb.value_counts()"
   ]
  },
  {
   "cell_type": "code",
   "execution_count": 17,
   "id": "1b7e5188",
   "metadata": {
    "scrolled": true
   },
   "outputs": [
    {
     "data": {
      "text/plain": [
       "(546, 3)"
      ]
     },
     "execution_count": 17,
     "metadata": {},
     "output_type": "execute_result"
    }
   ],
   "source": [
    "melbourne_df_non_dup.shape"
   ]
  },
  {
   "cell_type": "markdown",
   "id": "6d7904fa",
   "metadata": {},
   "source": [
    "There are still two *Melbourne* in the dataset with different postcode. To avoid confusion in later work, the suburb's name with `Postcode == 3004` was changed from `Melbourne` to `St Kilda Rd`."
   ]
  },
  {
   "cell_type": "code",
   "execution_count": 18,
   "id": "d89d59c6",
   "metadata": {},
   "outputs": [
    {
     "data": {
      "text/html": [
       "<div>\n",
       "<style scoped>\n",
       "    .dataframe tbody tr th:only-of-type {\n",
       "        vertical-align: middle;\n",
       "    }\n",
       "\n",
       "    .dataframe tbody tr th {\n",
       "        vertical-align: top;\n",
       "    }\n",
       "\n",
       "    .dataframe thead th {\n",
       "        text-align: right;\n",
       "    }\n",
       "</style>\n",
       "<table border=\"1\" class=\"dataframe\">\n",
       "  <thead>\n",
       "    <tr style=\"text-align: right;\">\n",
       "      <th></th>\n",
       "      <th>Suburb</th>\n",
       "      <th>Postcode</th>\n",
       "      <th>Council</th>\n",
       "    </tr>\n",
       "  </thead>\n",
       "  <tbody>\n",
       "    <tr>\n",
       "      <th>3</th>\n",
       "      <td>St Kilda Rd</td>\n",
       "      <td>3004</td>\n",
       "      <td>City of Melbourne</td>\n",
       "    </tr>\n",
       "  </tbody>\n",
       "</table>\n",
       "</div>"
      ],
      "text/plain": [
       "        Suburb  Postcode            Council\n",
       "3  St Kilda Rd      3004  City of Melbourne"
      ]
     },
     "execution_count": 18,
     "metadata": {},
     "output_type": "execute_result"
    }
   ],
   "source": [
    "melbourne_df_non_dup.loc[melbourne_df_non_dup['Postcode'] == 3004, 'Suburb'] = 'St Kilda Rd'\n",
    "melbourne_df_non_dup.loc[melbourne_df_non_dup['Postcode'] == 3004]"
   ]
  },
  {
   "cell_type": "markdown",
   "id": "731bbb99",
   "metadata": {},
   "source": [
    "Adding Geo-coordinates into the dataset for each suburb. This will contribute to finding venues in each suburb using Foursquare API. We could also use these coordinates to calculate the travel distances for employees that access nearby veunes."
   ]
  },
  {
   "cell_type": "code",
   "execution_count": 19,
   "id": "c8e4dfe8",
   "metadata": {},
   "outputs": [],
   "source": [
    "# create a function to find coordinates for suburbs based on the name and postcode using nominatim api\n",
    "\n",
    "def locationfinder(data_df):\n",
    "    lat = []\n",
    "    lon = []\n",
    "    for ix in range(data_df.shape[0]):\n",
    "        suburb = data_df.loc[ix,'Suburb']\n",
    "        postcode = data_df.loc[ix,'Postcode']\n",
    "        address = '{}, Victoria, {}'.format(suburb,postcode)\n",
    "        url = 'https://nominatim.openstreetmap.org/search/' + urllib.parse.quote(address) + '?format=json'\n",
    "        response = requests.get(url).json()\n",
    "        lat.append(response[0]['lat'])\n",
    "        lon.append(response[0]['lon'])\n",
    "    return lat,lon"
   ]
  },
  {
   "cell_type": "code",
   "execution_count": 20,
   "id": "92f57faf",
   "metadata": {},
   "outputs": [],
   "source": [
    "# call function to gather coordinates\n",
    "mel_lat, mel_lon = locationfinder(melbourne_df_non_dup)\n",
    "melbourne_df_non_dup['Latitude'] = mel_lat\n",
    "melbourne_df_non_dup['Longitude'] = mel_lon"
   ]
  },
  {
   "cell_type": "code",
   "execution_count": 21,
   "id": "4a0cfa26",
   "metadata": {},
   "outputs": [
    {
     "data": {
      "text/plain": [
       "(546, 5)"
      ]
     },
     "execution_count": 21,
     "metadata": {},
     "output_type": "execute_result"
    }
   ],
   "source": [
    "melbourne_df_non_dup.shape"
   ]
  },
  {
   "cell_type": "code",
   "execution_count": 22,
   "id": "dc9683a5",
   "metadata": {},
   "outputs": [
    {
     "data": {
      "text/html": [
       "<div>\n",
       "<style scoped>\n",
       "    .dataframe tbody tr th:only-of-type {\n",
       "        vertical-align: middle;\n",
       "    }\n",
       "\n",
       "    .dataframe tbody tr th {\n",
       "        vertical-align: top;\n",
       "    }\n",
       "\n",
       "    .dataframe thead th {\n",
       "        text-align: right;\n",
       "    }\n",
       "</style>\n",
       "<table border=\"1\" class=\"dataframe\">\n",
       "  <thead>\n",
       "    <tr style=\"text-align: right;\">\n",
       "      <th></th>\n",
       "      <th>Suburb</th>\n",
       "      <th>Postcode</th>\n",
       "      <th>Council</th>\n",
       "      <th>Latitude</th>\n",
       "      <th>Longitude</th>\n",
       "    </tr>\n",
       "  </thead>\n",
       "  <tbody>\n",
       "    <tr>\n",
       "      <th>0</th>\n",
       "      <td>Melbourne</td>\n",
       "      <td>3000</td>\n",
       "      <td>City of Melbourne</td>\n",
       "      <td>-37.8142176</td>\n",
       "      <td>144.9631608</td>\n",
       "    </tr>\n",
       "    <tr>\n",
       "      <th>1</th>\n",
       "      <td>East Melbourne</td>\n",
       "      <td>3002</td>\n",
       "      <td>City of Melbourne</td>\n",
       "      <td>-37.815588</td>\n",
       "      <td>144.98255534496568</td>\n",
       "    </tr>\n",
       "    <tr>\n",
       "      <th>2</th>\n",
       "      <td>West Melbourne</td>\n",
       "      <td>3003</td>\n",
       "      <td>City of Melbourne</td>\n",
       "      <td>-37.8106885</td>\n",
       "      <td>144.9204039725214</td>\n",
       "    </tr>\n",
       "    <tr>\n",
       "      <th>3</th>\n",
       "      <td>St Kilda Rd</td>\n",
       "      <td>3004</td>\n",
       "      <td>City of Melbourne</td>\n",
       "      <td>-37.8543706</td>\n",
       "      <td>144.9823366</td>\n",
       "    </tr>\n",
       "    <tr>\n",
       "      <th>4</th>\n",
       "      <td>South Wharf</td>\n",
       "      <td>3006</td>\n",
       "      <td>City of Port Phillip</td>\n",
       "      <td>-37.8253445</td>\n",
       "      <td>144.9523945305609</td>\n",
       "    </tr>\n",
       "    <tr>\n",
       "      <th>5</th>\n",
       "      <td>Southbank</td>\n",
       "      <td>3006</td>\n",
       "      <td>City of Port Phillip</td>\n",
       "      <td>-37.8253925</td>\n",
       "      <td>144.96357766652397</td>\n",
       "    </tr>\n",
       "    <tr>\n",
       "      <th>6</th>\n",
       "      <td>Docklands</td>\n",
       "      <td>3008</td>\n",
       "      <td>City of Melbourne</td>\n",
       "      <td>-37.8178695</td>\n",
       "      <td>144.93865434802785</td>\n",
       "    </tr>\n",
       "    <tr>\n",
       "      <th>7</th>\n",
       "      <td>Seddon</td>\n",
       "      <td>3011</td>\n",
       "      <td>City of Maribyrnong</td>\n",
       "      <td>-37.8067725</td>\n",
       "      <td>144.8915967</td>\n",
       "    </tr>\n",
       "    <tr>\n",
       "      <th>8</th>\n",
       "      <td>Footscray</td>\n",
       "      <td>3011</td>\n",
       "      <td>City of Maribyrnong</td>\n",
       "      <td>-37.801366</td>\n",
       "      <td>144.9024240873921</td>\n",
       "    </tr>\n",
       "    <tr>\n",
       "      <th>9</th>\n",
       "      <td>Kingsville</td>\n",
       "      <td>3012</td>\n",
       "      <td>City of Maribyrnong</td>\n",
       "      <td>-37.80884665601401</td>\n",
       "      <td>144.8553793430576</td>\n",
       "    </tr>\n",
       "  </tbody>\n",
       "</table>\n",
       "</div>"
      ],
      "text/plain": [
       "           Suburb  Postcode               Council            Latitude  \\\n",
       "0       Melbourne      3000     City of Melbourne         -37.8142176   \n",
       "1  East Melbourne      3002     City of Melbourne          -37.815588   \n",
       "2  West Melbourne      3003     City of Melbourne         -37.8106885   \n",
       "3     St Kilda Rd      3004     City of Melbourne         -37.8543706   \n",
       "4     South Wharf      3006  City of Port Phillip         -37.8253445   \n",
       "5       Southbank      3006  City of Port Phillip         -37.8253925   \n",
       "6       Docklands      3008     City of Melbourne         -37.8178695   \n",
       "7          Seddon      3011   City of Maribyrnong         -37.8067725   \n",
       "8       Footscray      3011   City of Maribyrnong          -37.801366   \n",
       "9      Kingsville      3012   City of Maribyrnong  -37.80884665601401   \n",
       "\n",
       "            Longitude  \n",
       "0         144.9631608  \n",
       "1  144.98255534496568  \n",
       "2   144.9204039725214  \n",
       "3         144.9823366  \n",
       "4   144.9523945305609  \n",
       "5  144.96357766652397  \n",
       "6  144.93865434802785  \n",
       "7         144.8915967  \n",
       "8   144.9024240873921  \n",
       "9   144.8553793430576  "
      ]
     },
     "execution_count": 22,
     "metadata": {},
     "output_type": "execute_result"
    }
   ],
   "source": [
    "melbourne_df_non_dup.head(10)"
   ]
  },
  {
   "cell_type": "markdown",
   "id": "c73d88a8",
   "metadata": {},
   "source": [
    "### Criminal Incident Data of Metropolitan Melbourne"
   ]
  },
  {
   "cell_type": "markdown",
   "id": "b1a3ed35",
   "metadata": {},
   "source": [
    "In this section, the main objective is to collect and clean the crime incident records of Metropolitan Melbourne. \n",
    "\n",
    "The reference listed below is a copy of Victoria Police Crime Statistics Report Data. Using the collected geographical data above, we can filter out the crime incidents recoreded in Metropolitan Melbourne. \n",
    "\n",
    "https://www.crimestatistics.vic.gov.au/sites/default/files/embridge_cache/emshare/original/public/users/202103/f1/092cf1840/Data_Tables_LGA_Criminal_Incidents_Year_Ending_December_2020.xlsx"
   ]
  },
  {
   "cell_type": "code",
   "execution_count": 23,
   "id": "0ad9e312",
   "metadata": {},
   "outputs": [
    {
     "data": {
      "text/html": [
       "<div>\n",
       "<style scoped>\n",
       "    .dataframe tbody tr th:only-of-type {\n",
       "        vertical-align: middle;\n",
       "    }\n",
       "\n",
       "    .dataframe tbody tr th {\n",
       "        vertical-align: top;\n",
       "    }\n",
       "\n",
       "    .dataframe thead th {\n",
       "        text-align: right;\n",
       "    }\n",
       "</style>\n",
       "<table border=\"1\" class=\"dataframe\">\n",
       "  <thead>\n",
       "    <tr style=\"text-align: right;\">\n",
       "      <th></th>\n",
       "      <th>Year</th>\n",
       "      <th>Year ending</th>\n",
       "      <th>Local Government Area</th>\n",
       "      <th>Postcode</th>\n",
       "      <th>Suburb/Town Name</th>\n",
       "      <th>Offence Division</th>\n",
       "      <th>Offence Subdivision</th>\n",
       "      <th>Offence Subgroup</th>\n",
       "      <th>Incidents Recorded</th>\n",
       "    </tr>\n",
       "  </thead>\n",
       "  <tbody>\n",
       "    <tr>\n",
       "      <th>0</th>\n",
       "      <td>2020</td>\n",
       "      <td>December</td>\n",
       "      <td>Alpine</td>\n",
       "      <td>3691</td>\n",
       "      <td>Dederang</td>\n",
       "      <td>A Crimes against the person</td>\n",
       "      <td>A20 Assault and related offences</td>\n",
       "      <td>A211 FV Serious assault</td>\n",
       "      <td>1</td>\n",
       "    </tr>\n",
       "    <tr>\n",
       "      <th>1</th>\n",
       "      <td>2020</td>\n",
       "      <td>December</td>\n",
       "      <td>Alpine</td>\n",
       "      <td>3691</td>\n",
       "      <td>Dederang</td>\n",
       "      <td>B Property and deception offences</td>\n",
       "      <td>B40 Theft</td>\n",
       "      <td>B41 Motor vehicle theft</td>\n",
       "      <td>1</td>\n",
       "    </tr>\n",
       "    <tr>\n",
       "      <th>2</th>\n",
       "      <td>2020</td>\n",
       "      <td>December</td>\n",
       "      <td>Alpine</td>\n",
       "      <td>3691</td>\n",
       "      <td>Glen Creek</td>\n",
       "      <td>C Drug offences</td>\n",
       "      <td>C30 Drug use and possession</td>\n",
       "      <td>C32 Drug possession</td>\n",
       "      <td>1</td>\n",
       "    </tr>\n",
       "    <tr>\n",
       "      <th>3</th>\n",
       "      <td>2020</td>\n",
       "      <td>December</td>\n",
       "      <td>Alpine</td>\n",
       "      <td>3691</td>\n",
       "      <td>Gundowring</td>\n",
       "      <td>C Drug offences</td>\n",
       "      <td>C10 Drug dealing and trafficking</td>\n",
       "      <td>C12 Drug trafficking</td>\n",
       "      <td>1</td>\n",
       "    </tr>\n",
       "    <tr>\n",
       "      <th>4</th>\n",
       "      <td>2020</td>\n",
       "      <td>December</td>\n",
       "      <td>Alpine</td>\n",
       "      <td>3691</td>\n",
       "      <td>Gundowring</td>\n",
       "      <td>E Justice procedures offences</td>\n",
       "      <td>E10 Justice procedures</td>\n",
       "      <td>E13 Resist or hinder officer</td>\n",
       "      <td>1</td>\n",
       "    </tr>\n",
       "  </tbody>\n",
       "</table>\n",
       "</div>"
      ],
      "text/plain": [
       "   Year Year ending Local Government Area  Postcode Suburb/Town Name  \\\n",
       "0  2020    December                Alpine      3691         Dederang   \n",
       "1  2020    December                Alpine      3691         Dederang   \n",
       "2  2020    December                Alpine      3691       Glen Creek   \n",
       "3  2020    December                Alpine      3691       Gundowring   \n",
       "4  2020    December                Alpine      3691       Gundowring   \n",
       "\n",
       "                    Offence Division               Offence Subdivision  \\\n",
       "0        A Crimes against the person  A20 Assault and related offences   \n",
       "1  B Property and deception offences                         B40 Theft   \n",
       "2                    C Drug offences       C30 Drug use and possession   \n",
       "3                    C Drug offences  C10 Drug dealing and trafficking   \n",
       "4      E Justice procedures offences            E10 Justice procedures   \n",
       "\n",
       "               Offence Subgroup  Incidents Recorded  \n",
       "0       A211 FV Serious assault                   1  \n",
       "1       B41 Motor vehicle theft                   1  \n",
       "2           C32 Drug possession                   1  \n",
       "3          C12 Drug trafficking                   1  \n",
       "4  E13 Resist or hinder officer                   1  "
      ]
     },
     "execution_count": 23,
     "metadata": {},
     "output_type": "execute_result"
    }
   ],
   "source": [
    "# download the dataset and save it as a dataframe\n",
    "CRIME_VIC_URL = './datasets/raw_data/mel_crime.xlsx'\n",
    "SHEET_CRIME_VIC_NAME = 'Table 03'\n",
    "victoria_crime_data = pd.read_excel(CRIME_VIC_URL,sheet_name=SHEET_CRIME_VIC_NAME)\n",
    "victoria_crime_data.head()"
   ]
  },
  {
   "cell_type": "code",
   "execution_count": 24,
   "id": "5378aba3",
   "metadata": {},
   "outputs": [
    {
     "data": {
      "text/html": [
       "<div>\n",
       "<style scoped>\n",
       "    .dataframe tbody tr th:only-of-type {\n",
       "        vertical-align: middle;\n",
       "    }\n",
       "\n",
       "    .dataframe tbody tr th {\n",
       "        vertical-align: top;\n",
       "    }\n",
       "\n",
       "    .dataframe thead th {\n",
       "        text-align: right;\n",
       "    }\n",
       "</style>\n",
       "<table border=\"1\" class=\"dataframe\">\n",
       "  <thead>\n",
       "    <tr style=\"text-align: right;\">\n",
       "      <th></th>\n",
       "      <th>Year</th>\n",
       "      <th>Year ending</th>\n",
       "      <th>Local Government Area</th>\n",
       "      <th>Postcode</th>\n",
       "      <th>Suburb</th>\n",
       "      <th>Offence Division</th>\n",
       "      <th>Offence Subdivision</th>\n",
       "      <th>Offence Subgroup</th>\n",
       "      <th>Incidents Recorded</th>\n",
       "    </tr>\n",
       "  </thead>\n",
       "  <tbody>\n",
       "    <tr>\n",
       "      <th>0</th>\n",
       "      <td>2020</td>\n",
       "      <td>December</td>\n",
       "      <td>Alpine</td>\n",
       "      <td>3691</td>\n",
       "      <td>Dederang</td>\n",
       "      <td>A Crimes against the person</td>\n",
       "      <td>A20 Assault and related offences</td>\n",
       "      <td>A211 FV Serious assault</td>\n",
       "      <td>1</td>\n",
       "    </tr>\n",
       "    <tr>\n",
       "      <th>1</th>\n",
       "      <td>2020</td>\n",
       "      <td>December</td>\n",
       "      <td>Alpine</td>\n",
       "      <td>3691</td>\n",
       "      <td>Dederang</td>\n",
       "      <td>B Property and deception offences</td>\n",
       "      <td>B40 Theft</td>\n",
       "      <td>B41 Motor vehicle theft</td>\n",
       "      <td>1</td>\n",
       "    </tr>\n",
       "    <tr>\n",
       "      <th>2</th>\n",
       "      <td>2020</td>\n",
       "      <td>December</td>\n",
       "      <td>Alpine</td>\n",
       "      <td>3691</td>\n",
       "      <td>Glen Creek</td>\n",
       "      <td>C Drug offences</td>\n",
       "      <td>C30 Drug use and possession</td>\n",
       "      <td>C32 Drug possession</td>\n",
       "      <td>1</td>\n",
       "    </tr>\n",
       "    <tr>\n",
       "      <th>3</th>\n",
       "      <td>2020</td>\n",
       "      <td>December</td>\n",
       "      <td>Alpine</td>\n",
       "      <td>3691</td>\n",
       "      <td>Gundowring</td>\n",
       "      <td>C Drug offences</td>\n",
       "      <td>C10 Drug dealing and trafficking</td>\n",
       "      <td>C12 Drug trafficking</td>\n",
       "      <td>1</td>\n",
       "    </tr>\n",
       "    <tr>\n",
       "      <th>4</th>\n",
       "      <td>2020</td>\n",
       "      <td>December</td>\n",
       "      <td>Alpine</td>\n",
       "      <td>3691</td>\n",
       "      <td>Gundowring</td>\n",
       "      <td>E Justice procedures offences</td>\n",
       "      <td>E10 Justice procedures</td>\n",
       "      <td>E13 Resist or hinder officer</td>\n",
       "      <td>1</td>\n",
       "    </tr>\n",
       "  </tbody>\n",
       "</table>\n",
       "</div>"
      ],
      "text/plain": [
       "   Year Year ending Local Government Area  Postcode      Suburb  \\\n",
       "0  2020    December                Alpine      3691    Dederang   \n",
       "1  2020    December                Alpine      3691    Dederang   \n",
       "2  2020    December                Alpine      3691  Glen Creek   \n",
       "3  2020    December                Alpine      3691  Gundowring   \n",
       "4  2020    December                Alpine      3691  Gundowring   \n",
       "\n",
       "                    Offence Division               Offence Subdivision  \\\n",
       "0        A Crimes against the person  A20 Assault and related offences   \n",
       "1  B Property and deception offences                         B40 Theft   \n",
       "2                    C Drug offences       C30 Drug use and possession   \n",
       "3                    C Drug offences  C10 Drug dealing and trafficking   \n",
       "4      E Justice procedures offences            E10 Justice procedures   \n",
       "\n",
       "               Offence Subgroup  Incidents Recorded  \n",
       "0       A211 FV Serious assault                   1  \n",
       "1       B41 Motor vehicle theft                   1  \n",
       "2           C32 Drug possession                   1  \n",
       "3          C12 Drug trafficking                   1  \n",
       "4  E13 Resist or hinder officer                   1  "
      ]
     },
     "execution_count": 24,
     "metadata": {},
     "output_type": "execute_result"
    }
   ],
   "source": [
    "# for consistency, change the selected column name into Suburb\n",
    "victoria_crime_data.rename(columns={'Suburb/Town Name':'Suburb'}, inplace=True)\n",
    "victoria_crime_data.head()"
   ]
  },
  {
   "cell_type": "code",
   "execution_count": 25,
   "id": "45335a3f",
   "metadata": {
    "scrolled": true
   },
   "outputs": [
    {
     "name": "stdout",
     "output_type": "stream",
     "text": [
      "<class 'pandas.core.frame.DataFrame'>\n",
      "RangeIndex: 317503 entries, 0 to 317502\n",
      "Data columns (total 9 columns):\n",
      " #   Column                 Non-Null Count   Dtype \n",
      "---  ------                 --------------   ----- \n",
      " 0   Year                   317503 non-null  int64 \n",
      " 1   Year ending            317503 non-null  object\n",
      " 2   Local Government Area  317503 non-null  object\n",
      " 3   Postcode               317503 non-null  int64 \n",
      " 4   Suburb                 317503 non-null  object\n",
      " 5   Offence Division       317503 non-null  object\n",
      " 6   Offence Subdivision    317503 non-null  object\n",
      " 7   Offence Subgroup       317503 non-null  object\n",
      " 8   Incidents Recorded     317503 non-null  int64 \n",
      "dtypes: int64(3), object(6)\n",
      "memory usage: 21.8+ MB\n"
     ]
    }
   ],
   "source": [
    "victoria_crime_data.info()"
   ]
  },
  {
   "cell_type": "markdown",
   "id": "e3ae1466",
   "metadata": {},
   "source": [
    "For consistency, change the suburb name with `Postcode == 3004` from `Melbourne` to `St Kilda Rd`"
   ]
  },
  {
   "cell_type": "code",
   "execution_count": 26,
   "id": "5ad84f26",
   "metadata": {},
   "outputs": [
    {
     "data": {
      "text/html": [
       "<div>\n",
       "<style scoped>\n",
       "    .dataframe tbody tr th:only-of-type {\n",
       "        vertical-align: middle;\n",
       "    }\n",
       "\n",
       "    .dataframe tbody tr th {\n",
       "        vertical-align: top;\n",
       "    }\n",
       "\n",
       "    .dataframe thead th {\n",
       "        text-align: right;\n",
       "    }\n",
       "</style>\n",
       "<table border=\"1\" class=\"dataframe\">\n",
       "  <thead>\n",
       "    <tr style=\"text-align: right;\">\n",
       "      <th></th>\n",
       "      <th>Year</th>\n",
       "      <th>Year ending</th>\n",
       "      <th>Local Government Area</th>\n",
       "      <th>Postcode</th>\n",
       "      <th>Suburb</th>\n",
       "      <th>Offence Division</th>\n",
       "      <th>Offence Subdivision</th>\n",
       "      <th>Offence Subgroup</th>\n",
       "      <th>Incidents Recorded</th>\n",
       "    </tr>\n",
       "  </thead>\n",
       "  <tbody>\n",
       "    <tr>\n",
       "      <th>20543</th>\n",
       "      <td>2020</td>\n",
       "      <td>December</td>\n",
       "      <td>Melbourne</td>\n",
       "      <td>3004</td>\n",
       "      <td>St Kilda Rd</td>\n",
       "      <td>A Crimes against the person</td>\n",
       "      <td>A20 Assault and related offences</td>\n",
       "      <td>A211 FV Serious assault</td>\n",
       "      <td>3</td>\n",
       "    </tr>\n",
       "    <tr>\n",
       "      <th>20544</th>\n",
       "      <td>2020</td>\n",
       "      <td>December</td>\n",
       "      <td>Melbourne</td>\n",
       "      <td>3004</td>\n",
       "      <td>St Kilda Rd</td>\n",
       "      <td>A Crimes against the person</td>\n",
       "      <td>A20 Assault and related offences</td>\n",
       "      <td>A212 Non-FV Serious assault</td>\n",
       "      <td>14</td>\n",
       "    </tr>\n",
       "    <tr>\n",
       "      <th>20545</th>\n",
       "      <td>2020</td>\n",
       "      <td>December</td>\n",
       "      <td>Melbourne</td>\n",
       "      <td>3004</td>\n",
       "      <td>St Kilda Rd</td>\n",
       "      <td>A Crimes against the person</td>\n",
       "      <td>A20 Assault and related offences</td>\n",
       "      <td>A22 Assault police, emergency services or othe...</td>\n",
       "      <td>12</td>\n",
       "    </tr>\n",
       "    <tr>\n",
       "      <th>20546</th>\n",
       "      <td>2020</td>\n",
       "      <td>December</td>\n",
       "      <td>Melbourne</td>\n",
       "      <td>3004</td>\n",
       "      <td>St Kilda Rd</td>\n",
       "      <td>A Crimes against the person</td>\n",
       "      <td>A20 Assault and related offences</td>\n",
       "      <td>A231 FV Common assault</td>\n",
       "      <td>6</td>\n",
       "    </tr>\n",
       "    <tr>\n",
       "      <th>20547</th>\n",
       "      <td>2020</td>\n",
       "      <td>December</td>\n",
       "      <td>Melbourne</td>\n",
       "      <td>3004</td>\n",
       "      <td>St Kilda Rd</td>\n",
       "      <td>A Crimes against the person</td>\n",
       "      <td>A20 Assault and related offences</td>\n",
       "      <td>A232 Non-FV Common assault</td>\n",
       "      <td>13</td>\n",
       "    </tr>\n",
       "  </tbody>\n",
       "</table>\n",
       "</div>"
      ],
      "text/plain": [
       "       Year Year ending Local Government Area  Postcode       Suburb  \\\n",
       "20543  2020    December             Melbourne      3004  St Kilda Rd   \n",
       "20544  2020    December             Melbourne      3004  St Kilda Rd   \n",
       "20545  2020    December             Melbourne      3004  St Kilda Rd   \n",
       "20546  2020    December             Melbourne      3004  St Kilda Rd   \n",
       "20547  2020    December             Melbourne      3004  St Kilda Rd   \n",
       "\n",
       "                  Offence Division               Offence Subdivision  \\\n",
       "20543  A Crimes against the person  A20 Assault and related offences   \n",
       "20544  A Crimes against the person  A20 Assault and related offences   \n",
       "20545  A Crimes against the person  A20 Assault and related offences   \n",
       "20546  A Crimes against the person  A20 Assault and related offences   \n",
       "20547  A Crimes against the person  A20 Assault and related offences   \n",
       "\n",
       "                                        Offence Subgroup  Incidents Recorded  \n",
       "20543                            A211 FV Serious assault                   3  \n",
       "20544                        A212 Non-FV Serious assault                  14  \n",
       "20545  A22 Assault police, emergency services or othe...                  12  \n",
       "20546                             A231 FV Common assault                   6  \n",
       "20547                         A232 Non-FV Common assault                  13  "
      ]
     },
     "execution_count": 26,
     "metadata": {},
     "output_type": "execute_result"
    }
   ],
   "source": [
    "victoria_crime_data.loc[victoria_crime_data['Postcode'] == 3004, 'Suburb'] = 'St Kilda Rd'\n",
    "victoria_crime_data.loc[victoria_crime_data['Postcode'] == 3004].head()"
   ]
  },
  {
   "cell_type": "markdown",
   "id": "534b3bf4",
   "metadata": {},
   "source": [
    "Merge the Victoria Crime data with the prepared geographical data of Metro Melbourne so that the crime incident data of Metro Melbourne can be obtained"
   ]
  },
  {
   "cell_type": "code",
   "execution_count": 27,
   "id": "2896f0b2",
   "metadata": {
    "scrolled": false
   },
   "outputs": [
    {
     "data": {
      "text/html": [
       "<div>\n",
       "<style scoped>\n",
       "    .dataframe tbody tr th:only-of-type {\n",
       "        vertical-align: middle;\n",
       "    }\n",
       "\n",
       "    .dataframe tbody tr th {\n",
       "        vertical-align: top;\n",
       "    }\n",
       "\n",
       "    .dataframe thead th {\n",
       "        text-align: right;\n",
       "    }\n",
       "</style>\n",
       "<table border=\"1\" class=\"dataframe\">\n",
       "  <thead>\n",
       "    <tr style=\"text-align: right;\">\n",
       "      <th></th>\n",
       "      <th>Year</th>\n",
       "      <th>Year ending</th>\n",
       "      <th>Local Government Area</th>\n",
       "      <th>Postcode</th>\n",
       "      <th>Suburb</th>\n",
       "      <th>Offence Division</th>\n",
       "      <th>Offence Subdivision</th>\n",
       "      <th>Offence Subgroup</th>\n",
       "      <th>Incidents Recorded</th>\n",
       "      <th>Council</th>\n",
       "      <th>Latitude</th>\n",
       "      <th>Longitude</th>\n",
       "    </tr>\n",
       "  </thead>\n",
       "  <tbody>\n",
       "    <tr>\n",
       "      <th>0</th>\n",
       "      <td>2020.0</td>\n",
       "      <td>December</td>\n",
       "      <td>Melbourne</td>\n",
       "      <td>3000</td>\n",
       "      <td>Melbourne</td>\n",
       "      <td>A Crimes against the person</td>\n",
       "      <td>A20 Assault and related offences</td>\n",
       "      <td>A211 FV Serious assault</td>\n",
       "      <td>90.0</td>\n",
       "      <td>City of Melbourne</td>\n",
       "      <td>-37.8142176</td>\n",
       "      <td>144.9631608</td>\n",
       "    </tr>\n",
       "    <tr>\n",
       "      <th>1</th>\n",
       "      <td>2020.0</td>\n",
       "      <td>December</td>\n",
       "      <td>Melbourne</td>\n",
       "      <td>3000</td>\n",
       "      <td>Melbourne</td>\n",
       "      <td>A Crimes against the person</td>\n",
       "      <td>A20 Assault and related offences</td>\n",
       "      <td>A212 Non-FV Serious assault</td>\n",
       "      <td>349.0</td>\n",
       "      <td>City of Melbourne</td>\n",
       "      <td>-37.8142176</td>\n",
       "      <td>144.9631608</td>\n",
       "    </tr>\n",
       "    <tr>\n",
       "      <th>2</th>\n",
       "      <td>2020.0</td>\n",
       "      <td>December</td>\n",
       "      <td>Melbourne</td>\n",
       "      <td>3000</td>\n",
       "      <td>Melbourne</td>\n",
       "      <td>A Crimes against the person</td>\n",
       "      <td>A20 Assault and related offences</td>\n",
       "      <td>A22 Assault police, emergency services or othe...</td>\n",
       "      <td>102.0</td>\n",
       "      <td>City of Melbourne</td>\n",
       "      <td>-37.8142176</td>\n",
       "      <td>144.9631608</td>\n",
       "    </tr>\n",
       "    <tr>\n",
       "      <th>3</th>\n",
       "      <td>2020.0</td>\n",
       "      <td>December</td>\n",
       "      <td>Melbourne</td>\n",
       "      <td>3000</td>\n",
       "      <td>Melbourne</td>\n",
       "      <td>A Crimes against the person</td>\n",
       "      <td>A20 Assault and related offences</td>\n",
       "      <td>A231 FV Common assault</td>\n",
       "      <td>136.0</td>\n",
       "      <td>City of Melbourne</td>\n",
       "      <td>-37.8142176</td>\n",
       "      <td>144.9631608</td>\n",
       "    </tr>\n",
       "    <tr>\n",
       "      <th>4</th>\n",
       "      <td>2020.0</td>\n",
       "      <td>December</td>\n",
       "      <td>Melbourne</td>\n",
       "      <td>3000</td>\n",
       "      <td>Melbourne</td>\n",
       "      <td>A Crimes against the person</td>\n",
       "      <td>A20 Assault and related offences</td>\n",
       "      <td>A232 Non-FV Common assault</td>\n",
       "      <td>482.0</td>\n",
       "      <td>City of Melbourne</td>\n",
       "      <td>-37.8142176</td>\n",
       "      <td>144.9631608</td>\n",
       "    </tr>\n",
       "    <tr>\n",
       "      <th>5</th>\n",
       "      <td>2020.0</td>\n",
       "      <td>December</td>\n",
       "      <td>Melbourne</td>\n",
       "      <td>3000</td>\n",
       "      <td>Melbourne</td>\n",
       "      <td>A Crimes against the person</td>\n",
       "      <td>A50 Robbery</td>\n",
       "      <td>A51 Aggravated robbery</td>\n",
       "      <td>82.0</td>\n",
       "      <td>City of Melbourne</td>\n",
       "      <td>-37.8142176</td>\n",
       "      <td>144.9631608</td>\n",
       "    </tr>\n",
       "    <tr>\n",
       "      <th>6</th>\n",
       "      <td>2020.0</td>\n",
       "      <td>December</td>\n",
       "      <td>Melbourne</td>\n",
       "      <td>3000</td>\n",
       "      <td>Melbourne</td>\n",
       "      <td>A Crimes against the person</td>\n",
       "      <td>A50 Robbery</td>\n",
       "      <td>A52 Non-Aggravated robbery</td>\n",
       "      <td>8.0</td>\n",
       "      <td>City of Melbourne</td>\n",
       "      <td>-37.8142176</td>\n",
       "      <td>144.9631608</td>\n",
       "    </tr>\n",
       "    <tr>\n",
       "      <th>7</th>\n",
       "      <td>2020.0</td>\n",
       "      <td>December</td>\n",
       "      <td>Melbourne</td>\n",
       "      <td>3000</td>\n",
       "      <td>Melbourne</td>\n",
       "      <td>A Crimes against the person</td>\n",
       "      <td>A70 Stalking, harassment and threatening behav...</td>\n",
       "      <td>A711 FV Stalking</td>\n",
       "      <td>22.0</td>\n",
       "      <td>City of Melbourne</td>\n",
       "      <td>-37.8142176</td>\n",
       "      <td>144.9631608</td>\n",
       "    </tr>\n",
       "    <tr>\n",
       "      <th>8</th>\n",
       "      <td>2020.0</td>\n",
       "      <td>December</td>\n",
       "      <td>Melbourne</td>\n",
       "      <td>3000</td>\n",
       "      <td>Melbourne</td>\n",
       "      <td>A Crimes against the person</td>\n",
       "      <td>A70 Stalking, harassment and threatening behav...</td>\n",
       "      <td>A712 Non-FV Stalking</td>\n",
       "      <td>30.0</td>\n",
       "      <td>City of Melbourne</td>\n",
       "      <td>-37.8142176</td>\n",
       "      <td>144.9631608</td>\n",
       "    </tr>\n",
       "    <tr>\n",
       "      <th>9</th>\n",
       "      <td>2020.0</td>\n",
       "      <td>December</td>\n",
       "      <td>Melbourne</td>\n",
       "      <td>3000</td>\n",
       "      <td>Melbourne</td>\n",
       "      <td>A Crimes against the person</td>\n",
       "      <td>A70 Stalking, harassment and threatening behav...</td>\n",
       "      <td>A721 FV Harassment and private nuisance</td>\n",
       "      <td>10.0</td>\n",
       "      <td>City of Melbourne</td>\n",
       "      <td>-37.8142176</td>\n",
       "      <td>144.9631608</td>\n",
       "    </tr>\n",
       "  </tbody>\n",
       "</table>\n",
       "</div>"
      ],
      "text/plain": [
       "     Year Year ending Local Government Area  Postcode     Suburb  \\\n",
       "0  2020.0    December             Melbourne      3000  Melbourne   \n",
       "1  2020.0    December             Melbourne      3000  Melbourne   \n",
       "2  2020.0    December             Melbourne      3000  Melbourne   \n",
       "3  2020.0    December             Melbourne      3000  Melbourne   \n",
       "4  2020.0    December             Melbourne      3000  Melbourne   \n",
       "5  2020.0    December             Melbourne      3000  Melbourne   \n",
       "6  2020.0    December             Melbourne      3000  Melbourne   \n",
       "7  2020.0    December             Melbourne      3000  Melbourne   \n",
       "8  2020.0    December             Melbourne      3000  Melbourne   \n",
       "9  2020.0    December             Melbourne      3000  Melbourne   \n",
       "\n",
       "              Offence Division  \\\n",
       "0  A Crimes against the person   \n",
       "1  A Crimes against the person   \n",
       "2  A Crimes against the person   \n",
       "3  A Crimes against the person   \n",
       "4  A Crimes against the person   \n",
       "5  A Crimes against the person   \n",
       "6  A Crimes against the person   \n",
       "7  A Crimes against the person   \n",
       "8  A Crimes against the person   \n",
       "9  A Crimes against the person   \n",
       "\n",
       "                                 Offence Subdivision  \\\n",
       "0                   A20 Assault and related offences   \n",
       "1                   A20 Assault and related offences   \n",
       "2                   A20 Assault and related offences   \n",
       "3                   A20 Assault and related offences   \n",
       "4                   A20 Assault and related offences   \n",
       "5                                        A50 Robbery   \n",
       "6                                        A50 Robbery   \n",
       "7  A70 Stalking, harassment and threatening behav...   \n",
       "8  A70 Stalking, harassment and threatening behav...   \n",
       "9  A70 Stalking, harassment and threatening behav...   \n",
       "\n",
       "                                    Offence Subgroup  Incidents Recorded  \\\n",
       "0                            A211 FV Serious assault                90.0   \n",
       "1                        A212 Non-FV Serious assault               349.0   \n",
       "2  A22 Assault police, emergency services or othe...               102.0   \n",
       "3                             A231 FV Common assault               136.0   \n",
       "4                         A232 Non-FV Common assault               482.0   \n",
       "5                             A51 Aggravated robbery                82.0   \n",
       "6                         A52 Non-Aggravated robbery                 8.0   \n",
       "7                                   A711 FV Stalking                22.0   \n",
       "8                               A712 Non-FV Stalking                30.0   \n",
       "9            A721 FV Harassment and private nuisance                10.0   \n",
       "\n",
       "             Council     Latitude    Longitude  \n",
       "0  City of Melbourne  -37.8142176  144.9631608  \n",
       "1  City of Melbourne  -37.8142176  144.9631608  \n",
       "2  City of Melbourne  -37.8142176  144.9631608  \n",
       "3  City of Melbourne  -37.8142176  144.9631608  \n",
       "4  City of Melbourne  -37.8142176  144.9631608  \n",
       "5  City of Melbourne  -37.8142176  144.9631608  \n",
       "6  City of Melbourne  -37.8142176  144.9631608  \n",
       "7  City of Melbourne  -37.8142176  144.9631608  \n",
       "8  City of Melbourne  -37.8142176  144.9631608  \n",
       "9  City of Melbourne  -37.8142176  144.9631608  "
      ]
     },
     "execution_count": 27,
     "metadata": {},
     "output_type": "execute_result"
    }
   ],
   "source": [
    "melbourne_crime_data = victoria_crime_data.merge(melbourne_df_non_dup, how='right',left_on=['Suburb','Postcode'], right_on=['Suburb','Postcode'])\n",
    "melbourne_crime_data.head(10)"
   ]
  },
  {
   "cell_type": "code",
   "execution_count": 28,
   "id": "e61cfab4",
   "metadata": {},
   "outputs": [
    {
     "data": {
      "text/plain": [
       "(170541, 12)"
      ]
     },
     "execution_count": 28,
     "metadata": {},
     "output_type": "execute_result"
    }
   ],
   "source": [
    "melbourne_crime_data.shape"
   ]
  },
  {
   "cell_type": "code",
   "execution_count": 29,
   "id": "6096ee2d",
   "metadata": {},
   "outputs": [
    {
     "name": "stdout",
     "output_type": "stream",
     "text": [
      "<class 'pandas.core.frame.DataFrame'>\n",
      "Int64Index: 170541 entries, 0 to 170540\n",
      "Data columns (total 12 columns):\n",
      " #   Column                 Non-Null Count   Dtype  \n",
      "---  ------                 --------------   -----  \n",
      " 0   Year                   170516 non-null  float64\n",
      " 1   Year ending            170516 non-null  object \n",
      " 2   Local Government Area  170516 non-null  object \n",
      " 3   Postcode               170541 non-null  int64  \n",
      " 4   Suburb                 170541 non-null  object \n",
      " 5   Offence Division       170516 non-null  object \n",
      " 6   Offence Subdivision    170516 non-null  object \n",
      " 7   Offence Subgroup       170516 non-null  object \n",
      " 8   Incidents Recorded     170516 non-null  float64\n",
      " 9   Council                170541 non-null  object \n",
      " 10  Latitude               170541 non-null  object \n",
      " 11  Longitude              170541 non-null  object \n",
      "dtypes: float64(2), int64(1), object(9)\n",
      "memory usage: 16.9+ MB\n"
     ]
    }
   ],
   "source": [
    "melbourne_crime_data.info()"
   ]
  },
  {
   "cell_type": "markdown",
   "id": "e6a85307",
   "metadata": {},
   "source": [
    "From the above, it can be seen that some suburbs have no crime record found in the dataset. The following code is to check both datasets to ensure the consistency and try to eliminate mismatches, reducing the number of NaN in the dataset. "
   ]
  },
  {
   "cell_type": "code",
   "execution_count": 30,
   "id": "64195556",
   "metadata": {
    "scrolled": true
   },
   "outputs": [
    {
     "data": {
      "text/html": [
       "<div>\n",
       "<style scoped>\n",
       "    .dataframe tbody tr th:only-of-type {\n",
       "        vertical-align: middle;\n",
       "    }\n",
       "\n",
       "    .dataframe tbody tr th {\n",
       "        vertical-align: top;\n",
       "    }\n",
       "\n",
       "    .dataframe thead th {\n",
       "        text-align: right;\n",
       "    }\n",
       "</style>\n",
       "<table border=\"1\" class=\"dataframe\">\n",
       "  <thead>\n",
       "    <tr style=\"text-align: right;\">\n",
       "      <th></th>\n",
       "      <th>index</th>\n",
       "      <th>Suburb</th>\n",
       "      <th>Postcode</th>\n",
       "    </tr>\n",
       "  </thead>\n",
       "  <tbody>\n",
       "    <tr>\n",
       "      <th>0</th>\n",
       "      <td>17256</td>\n",
       "      <td>Manor Lakes</td>\n",
       "      <td>3024</td>\n",
       "    </tr>\n",
       "    <tr>\n",
       "      <th>1</th>\n",
       "      <td>23908</td>\n",
       "      <td>Flemington, Victoria</td>\n",
       "      <td>3031</td>\n",
       "    </tr>\n",
       "    <tr>\n",
       "      <th>2</th>\n",
       "      <td>65907</td>\n",
       "      <td>Bend of Islands</td>\n",
       "      <td>3097</td>\n",
       "    </tr>\n",
       "    <tr>\n",
       "      <th>3</th>\n",
       "      <td>135312</td>\n",
       "      <td>Quandong</td>\n",
       "      <td>3340</td>\n",
       "    </tr>\n",
       "    <tr>\n",
       "      <th>4</th>\n",
       "      <td>138853</td>\n",
       "      <td>Woodstock</td>\n",
       "      <td>3755</td>\n",
       "    </tr>\n",
       "    <tr>\n",
       "      <th>5</th>\n",
       "      <td>142166</td>\n",
       "      <td>Kinglake West</td>\n",
       "      <td>3778</td>\n",
       "    </tr>\n",
       "    <tr>\n",
       "      <th>6</th>\n",
       "      <td>146162</td>\n",
       "      <td>Warburton East</td>\n",
       "      <td>3799</td>\n",
       "    </tr>\n",
       "    <tr>\n",
       "      <th>7</th>\n",
       "      <td>146163</td>\n",
       "      <td>Monash University</td>\n",
       "      <td>3800</td>\n",
       "    </tr>\n",
       "    <tr>\n",
       "      <th>8</th>\n",
       "      <td>150557</td>\n",
       "      <td>Dewhurst</td>\n",
       "      <td>3809</td>\n",
       "    </tr>\n",
       "    <tr>\n",
       "      <th>9</th>\n",
       "      <td>153059</td>\n",
       "      <td>Koo Wee Rup North</td>\n",
       "      <td>3891</td>\n",
       "    </tr>\n",
       "    <tr>\n",
       "      <th>10</th>\n",
       "      <td>153060</td>\n",
       "      <td>Lang Lang East</td>\n",
       "      <td>3894</td>\n",
       "    </tr>\n",
       "    <tr>\n",
       "      <th>11</th>\n",
       "      <td>153061</td>\n",
       "      <td>Yannathan</td>\n",
       "      <td>3894</td>\n",
       "    </tr>\n",
       "    <tr>\n",
       "      <th>12</th>\n",
       "      <td>156416</td>\n",
       "      <td>HMAS Cerberus</td>\n",
       "      <td>3920</td>\n",
       "    </tr>\n",
       "    <tr>\n",
       "      <th>13</th>\n",
       "      <td>160653</td>\n",
       "      <td>Capel Sound</td>\n",
       "      <td>3940</td>\n",
       "    </tr>\n",
       "    <tr>\n",
       "      <th>14</th>\n",
       "      <td>166108</td>\n",
       "      <td>Tooradin North</td>\n",
       "      <td>3977</td>\n",
       "    </tr>\n",
       "    <tr>\n",
       "      <th>15</th>\n",
       "      <td>170171</td>\n",
       "      <td>Fraser Rise</td>\n",
       "      <td>3336</td>\n",
       "    </tr>\n",
       "    <tr>\n",
       "      <th>16</th>\n",
       "      <td>170172</td>\n",
       "      <td>Deanside</td>\n",
       "      <td>3336</td>\n",
       "    </tr>\n",
       "    <tr>\n",
       "      <th>17</th>\n",
       "      <td>170533</td>\n",
       "      <td>Fieldstone</td>\n",
       "      <td>3024</td>\n",
       "    </tr>\n",
       "    <tr>\n",
       "      <th>18</th>\n",
       "      <td>170534</td>\n",
       "      <td>Grangefields</td>\n",
       "      <td>3335</td>\n",
       "    </tr>\n",
       "    <tr>\n",
       "      <th>19</th>\n",
       "      <td>170535</td>\n",
       "      <td>Harkness</td>\n",
       "      <td>3337</td>\n",
       "    </tr>\n",
       "    <tr>\n",
       "      <th>20</th>\n",
       "      <td>170536</td>\n",
       "      <td>Strathtulloh</td>\n",
       "      <td>3338</td>\n",
       "    </tr>\n",
       "    <tr>\n",
       "      <th>21</th>\n",
       "      <td>170537</td>\n",
       "      <td>Weir Views</td>\n",
       "      <td>3338</td>\n",
       "    </tr>\n",
       "    <tr>\n",
       "      <th>22</th>\n",
       "      <td>170538</td>\n",
       "      <td>Thornhill Park</td>\n",
       "      <td>3335</td>\n",
       "    </tr>\n",
       "    <tr>\n",
       "      <th>23</th>\n",
       "      <td>170539</td>\n",
       "      <td>Cobblebank</td>\n",
       "      <td>3338</td>\n",
       "    </tr>\n",
       "    <tr>\n",
       "      <th>24</th>\n",
       "      <td>170540</td>\n",
       "      <td>Aintree</td>\n",
       "      <td>3336</td>\n",
       "    </tr>\n",
       "  </tbody>\n",
       "</table>\n",
       "</div>"
      ],
      "text/plain": [
       "     index                Suburb  Postcode\n",
       "0    17256           Manor Lakes      3024\n",
       "1    23908  Flemington, Victoria      3031\n",
       "2    65907       Bend of Islands      3097\n",
       "3   135312              Quandong      3340\n",
       "4   138853             Woodstock      3755\n",
       "5   142166         Kinglake West      3778\n",
       "6   146162        Warburton East      3799\n",
       "7   146163     Monash University      3800\n",
       "8   150557              Dewhurst      3809\n",
       "9   153059     Koo Wee Rup North      3891\n",
       "10  153060        Lang Lang East      3894\n",
       "11  153061             Yannathan      3894\n",
       "12  156416         HMAS Cerberus      3920\n",
       "13  160653           Capel Sound      3940\n",
       "14  166108        Tooradin North      3977\n",
       "15  170171           Fraser Rise      3336\n",
       "16  170172              Deanside      3336\n",
       "17  170533            Fieldstone      3024\n",
       "18  170534          Grangefields      3335\n",
       "19  170535              Harkness      3337\n",
       "20  170536          Strathtulloh      3338\n",
       "21  170537            Weir Views      3338\n",
       "22  170538        Thornhill Park      3335\n",
       "23  170539            Cobblebank      3338\n",
       "24  170540               Aintree      3336"
      ]
     },
     "execution_count": 30,
     "metadata": {},
     "output_type": "execute_result"
    }
   ],
   "source": [
    "# create a list containing suburb name and postcode that has no crime incident records.\n",
    "missing_list = melbourne_crime_data[melbourne_crime_data['Incidents Recorded'].isnull()][['Suburb','Postcode']]\n",
    "missing_list = missing_list.reset_index()\n",
    "missing_list"
   ]
  },
  {
   "cell_type": "markdown",
   "id": "0f9b9196",
   "metadata": {},
   "source": [
    "With few searches on google, it can be found that, in geographical dataset, some suburbs placed in the list have been given the `wrong postcodes`. The follow code is to correct the wrong postcode using the correct postcode provided in the Victoria Crime dataset. \n",
    "\n",
    "Furthermore, a suburb named `Flemington, Victoria` was found in geographical dataset. It is a duplicate of the suburb named `Flemington` which should be removed from the geographical dataset. \n",
    "\n",
    "At last, there is no crime data found for the suburb named `Monash University`. After check postcode==3800 in the Victoria Crime dataset, it was found that the suburb was labeled as `Clayton` in Victoria Crime dataset. To maintain consistency with geographical dataset, the suburb's name was changed to `Monash University`."
   ]
  },
  {
   "cell_type": "code",
   "execution_count": 31,
   "id": "96c99c7b",
   "metadata": {
    "scrolled": false
   },
   "outputs": [
    {
     "name": "stdout",
     "output_type": "stream",
     "text": [
      "['Quandong', 'Woodstock', 'Kinglake West', 'Dewhurst', 'Koo Wee Rup North', 'Lang Lang East', 'Yannathan'] \n",
      "\n",
      " ['Manor Lakes', 'Bend of Islands', 'Warburton East', 'HMAS Cerberus', 'Capel Sound', 'Tooradin North', 'Fraser Rise', 'Deanside', 'Fieldstone', 'Grangefields', 'Harkness', 'Strathtulloh', 'Weir Views', 'Thornhill Park', 'Cobblebank', 'Aintree']\n"
     ]
    }
   ],
   "source": [
    "# two lists named missing_list and rest_list will be created\n",
    "wrong_postcode = []\n",
    "rest_list = []\n",
    "for i in range(missing_list.shape[0]):\n",
    "    if len(victoria_crime_data[victoria_crime_data['Suburb'] == missing_list.iloc[i,1]]):\n",
    "        wrong_postcode.append(missing_list.iloc[i,1])\n",
    "    else:\n",
    "        if missing_list.iloc[i,1] == 'Monash University' or missing_list.iloc[i,1] == 'Flemington, Victoria':\n",
    "            continue\n",
    "        rest_list.append(missing_list.iloc[i,1])\n",
    "print(wrong_postcode,'\\n\\n',rest_list)"
   ]
  },
  {
   "cell_type": "code",
   "execution_count": 32,
   "id": "6b3ddaaf",
   "metadata": {},
   "outputs": [
    {
     "data": {
      "text/plain": [
       "(546, 5)"
      ]
     },
     "execution_count": 32,
     "metadata": {},
     "output_type": "execute_result"
    }
   ],
   "source": [
    "melbourne_df_non_dup.shape"
   ]
  },
  {
   "cell_type": "code",
   "execution_count": 33,
   "id": "b00c5374",
   "metadata": {},
   "outputs": [
    {
     "name": "stdout",
     "output_type": "stream",
     "text": [
      "       Suburb  Postcode\n",
      "352  Quandong      3340\n",
      "       Suburb  Postcode\n",
      "352  Quandong      3030\n",
      "        Suburb  Postcode\n",
      "364  Woodstock      3755\n",
      "        Suburb  Postcode\n",
      "364  Woodstock      3751\n",
      "            Suburb  Postcode\n",
      "389  Kinglake West      3778\n",
      "            Suburb  Postcode\n",
      "389  Kinglake West      3757\n",
      "       Suburb  Postcode\n",
      "436  Dewhurst      3809\n",
      "       Suburb  Postcode\n",
      "436  Dewhurst      3808\n",
      "                Suburb  Postcode\n",
      "457  Koo Wee Rup North      3891\n",
      "                Suburb  Postcode\n",
      "457  Koo Wee Rup North      3810\n",
      "             Suburb  Postcode\n",
      "458  Lang Lang East      3894\n",
      "             Suburb  Postcode\n",
      "458  Lang Lang East      3984\n",
      "        Suburb  Postcode\n",
      "459  Yannathan      3894\n",
      "        Suburb  Postcode\n",
      "459  Yannathan      3981\n",
      "\n",
      "\n",
      "Not Found multiple postcodes in any suburb!\n",
      "Correction on melbourne_df_non_dup is completed!\n"
     ]
    },
    {
     "data": {
      "text/plain": [
       "[['Quandong', 3030],\n",
       " ['Woodstock', 3751],\n",
       " ['Kinglake West', 3757],\n",
       " ['Dewhurst', 3808],\n",
       " ['Koo Wee Rup North', 3810],\n",
       " ['Lang Lang East', 3984],\n",
       " ['Yannathan', 3981]]"
      ]
     },
     "execution_count": 33,
     "metadata": {},
     "output_type": "execute_result"
    }
   ],
   "source": [
    "# correct the postcode for selected suburbs\n",
    "postcode_corrections = []\n",
    "multiple_postcode = []\n",
    "for name in wrong_postcode:\n",
    "    postcode = victoria_crime_data[victoria_crime_data['Suburb'] == name]['Postcode'].value_counts().index\n",
    "    if len(postcode) == 1:\n",
    "        print(melbourne_df_non_dup[melbourne_df_non_dup['Suburb'] == name][['Suburb','Postcode']])\n",
    "        melbourne_df_non_dup.loc[melbourne_df_non_dup['Suburb'] == name,'Postcode'] = postcode\n",
    "        print(melbourne_df_non_dup[melbourne_df_non_dup['Suburb'] == name][['Suburb','Postcode']])\n",
    "        \n",
    "        \n",
    "        postcode_corrections.append([name,postcode[0]])\n",
    "    else:\n",
    "        multiple_postcode.append([name,postcode])\n",
    "if multiple_postcode == []:\n",
    "    print('\\n')\n",
    "    print('Not Found multiple postcodes in any suburb!')\n",
    "print('Correction on melbourne_df_non_dup is completed!')\n",
    "postcode_corrections"
   ]
  },
  {
   "cell_type": "code",
   "execution_count": 34,
   "id": "74294669",
   "metadata": {},
   "outputs": [
    {
     "data": {
      "text/plain": [
       "(546, 5)"
      ]
     },
     "execution_count": 34,
     "metadata": {},
     "output_type": "execute_result"
    }
   ],
   "source": [
    "melbourne_df_non_dup.shape"
   ]
  },
  {
   "cell_type": "code",
   "execution_count": 35,
   "id": "5aedcd61",
   "metadata": {
    "scrolled": true
   },
   "outputs": [
    {
     "data": {
      "text/html": [
       "<div>\n",
       "<style scoped>\n",
       "    .dataframe tbody tr th:only-of-type {\n",
       "        vertical-align: middle;\n",
       "    }\n",
       "\n",
       "    .dataframe tbody tr th {\n",
       "        vertical-align: top;\n",
       "    }\n",
       "\n",
       "    .dataframe thead th {\n",
       "        text-align: right;\n",
       "    }\n",
       "</style>\n",
       "<table border=\"1\" class=\"dataframe\">\n",
       "  <thead>\n",
       "    <tr style=\"text-align: right;\">\n",
       "      <th></th>\n",
       "      <th>Suburb</th>\n",
       "      <th>Postcode</th>\n",
       "    </tr>\n",
       "  </thead>\n",
       "  <tbody>\n",
       "    <tr>\n",
       "      <th>0</th>\n",
       "      <td>Quandong</td>\n",
       "      <td>3030</td>\n",
       "    </tr>\n",
       "    <tr>\n",
       "      <th>1</th>\n",
       "      <td>Woodstock</td>\n",
       "      <td>3751</td>\n",
       "    </tr>\n",
       "    <tr>\n",
       "      <th>2</th>\n",
       "      <td>Kinglake West</td>\n",
       "      <td>3757</td>\n",
       "    </tr>\n",
       "    <tr>\n",
       "      <th>3</th>\n",
       "      <td>Dewhurst</td>\n",
       "      <td>3808</td>\n",
       "    </tr>\n",
       "    <tr>\n",
       "      <th>4</th>\n",
       "      <td>Koo Wee Rup North</td>\n",
       "      <td>3810</td>\n",
       "    </tr>\n",
       "    <tr>\n",
       "      <th>5</th>\n",
       "      <td>Lang Lang East</td>\n",
       "      <td>3984</td>\n",
       "    </tr>\n",
       "    <tr>\n",
       "      <th>6</th>\n",
       "      <td>Yannathan</td>\n",
       "      <td>3981</td>\n",
       "    </tr>\n",
       "  </tbody>\n",
       "</table>\n",
       "</div>"
      ],
      "text/plain": [
       "              Suburb  Postcode\n",
       "0           Quandong      3030\n",
       "1          Woodstock      3751\n",
       "2      Kinglake West      3757\n",
       "3           Dewhurst      3808\n",
       "4  Koo Wee Rup North      3810\n",
       "5     Lang Lang East      3984\n",
       "6          Yannathan      3981"
      ]
     },
     "execution_count": 35,
     "metadata": {},
     "output_type": "execute_result"
    }
   ],
   "source": [
    "# check the results\n",
    "postcode_corrections_df = pd.DataFrame(postcode_corrections,columns= ['Suburb','Postcode'])\n",
    "postcode_corrections_df"
   ]
  },
  {
   "cell_type": "code",
   "execution_count": 36,
   "id": "f5301878",
   "metadata": {},
   "outputs": [
    {
     "data": {
      "text/html": [
       "<div>\n",
       "<style scoped>\n",
       "    .dataframe tbody tr th:only-of-type {\n",
       "        vertical-align: middle;\n",
       "    }\n",
       "\n",
       "    .dataframe tbody tr th {\n",
       "        vertical-align: top;\n",
       "    }\n",
       "\n",
       "    .dataframe thead th {\n",
       "        text-align: right;\n",
       "    }\n",
       "</style>\n",
       "<table border=\"1\" class=\"dataframe\">\n",
       "  <thead>\n",
       "    <tr style=\"text-align: right;\">\n",
       "      <th></th>\n",
       "      <th>Suburb</th>\n",
       "      <th>Postcode</th>\n",
       "      <th>Council</th>\n",
       "      <th>Latitude</th>\n",
       "      <th>Longitude</th>\n",
       "    </tr>\n",
       "  </thead>\n",
       "  <tbody>\n",
       "    <tr>\n",
       "      <th>0</th>\n",
       "      <td>Quandong</td>\n",
       "      <td>3030</td>\n",
       "      <td>City of Wyndham</td>\n",
       "      <td>-37.8388844</td>\n",
       "      <td>144.5538125</td>\n",
       "    </tr>\n",
       "    <tr>\n",
       "      <th>1</th>\n",
       "      <td>Woodstock</td>\n",
       "      <td>3751</td>\n",
       "      <td>City of Whittlesea</td>\n",
       "      <td>-37.54608</td>\n",
       "      <td>145.05437385869567</td>\n",
       "    </tr>\n",
       "    <tr>\n",
       "      <th>2</th>\n",
       "      <td>Kinglake West</td>\n",
       "      <td>3757</td>\n",
       "      <td>Shire of Nillumbik</td>\n",
       "      <td>-37.478028</td>\n",
       "      <td>145.25571422949724</td>\n",
       "    </tr>\n",
       "    <tr>\n",
       "      <th>3</th>\n",
       "      <td>Dewhurst</td>\n",
       "      <td>3808</td>\n",
       "      <td>Shire of Cardinia</td>\n",
       "      <td>-37.9761335</td>\n",
       "      <td>145.47387508579544</td>\n",
       "    </tr>\n",
       "    <tr>\n",
       "      <th>4</th>\n",
       "      <td>Koo Wee Rup North</td>\n",
       "      <td>3810</td>\n",
       "      <td>Shire of Cardinia</td>\n",
       "      <td>-38.145267000000004</td>\n",
       "      <td>145.5371992735536</td>\n",
       "    </tr>\n",
       "    <tr>\n",
       "      <th>5</th>\n",
       "      <td>Lang Lang East</td>\n",
       "      <td>3984</td>\n",
       "      <td>Shire of Cardinia</td>\n",
       "      <td>-38.270215</td>\n",
       "      <td>145.65643605931228</td>\n",
       "    </tr>\n",
       "    <tr>\n",
       "      <th>6</th>\n",
       "      <td>Yannathan</td>\n",
       "      <td>3981</td>\n",
       "      <td>Shire of Cardinia</td>\n",
       "      <td>-38.2242665</td>\n",
       "      <td>145.65067561205592</td>\n",
       "    </tr>\n",
       "  </tbody>\n",
       "</table>\n",
       "</div>"
      ],
      "text/plain": [
       "              Suburb  Postcode             Council             Latitude  \\\n",
       "0           Quandong      3030     City of Wyndham          -37.8388844   \n",
       "1          Woodstock      3751  City of Whittlesea            -37.54608   \n",
       "2      Kinglake West      3757  Shire of Nillumbik           -37.478028   \n",
       "3           Dewhurst      3808   Shire of Cardinia          -37.9761335   \n",
       "4  Koo Wee Rup North      3810   Shire of Cardinia  -38.145267000000004   \n",
       "5     Lang Lang East      3984   Shire of Cardinia           -38.270215   \n",
       "6          Yannathan      3981   Shire of Cardinia          -38.2242665   \n",
       "\n",
       "            Longitude  \n",
       "0         144.5538125  \n",
       "1  145.05437385869567  \n",
       "2  145.25571422949724  \n",
       "3  145.47387508579544  \n",
       "4   145.5371992735536  \n",
       "5  145.65643605931228  \n",
       "6  145.65067561205592  "
      ]
     },
     "execution_count": 36,
     "metadata": {},
     "output_type": "execute_result"
    }
   ],
   "source": [
    "# suburbs with no crime record exists\n",
    "melbourne_df_non_dup.merge(postcode_corrections_df,how='inner')"
   ]
  },
  {
   "cell_type": "code",
   "execution_count": 37,
   "id": "2fd9e571",
   "metadata": {
    "scrolled": true
   },
   "outputs": [
    {
     "data": {
      "text/plain": [
       "(546, 5)"
      ]
     },
     "execution_count": 37,
     "metadata": {},
     "output_type": "execute_result"
    }
   ],
   "source": [
    "melbourne_df_non_dup.shape"
   ]
  },
  {
   "cell_type": "code",
   "execution_count": 38,
   "id": "f20f9917",
   "metadata": {},
   "outputs": [],
   "source": [
    "# remove Flemington, Victoria from geographical dataset\n",
    "melbourne_df_non_dup.drop(melbourne_df_non_dup[melbourne_df_non_dup['Suburb'] == 'Flemington, Victoria'].index, inplace=True)"
   ]
  },
  {
   "cell_type": "code",
   "execution_count": 39,
   "id": "ce7a507c",
   "metadata": {},
   "outputs": [
    {
     "data": {
      "text/html": [
       "<div>\n",
       "<style scoped>\n",
       "    .dataframe tbody tr th:only-of-type {\n",
       "        vertical-align: middle;\n",
       "    }\n",
       "\n",
       "    .dataframe tbody tr th {\n",
       "        vertical-align: top;\n",
       "    }\n",
       "\n",
       "    .dataframe thead th {\n",
       "        text-align: right;\n",
       "    }\n",
       "</style>\n",
       "<table border=\"1\" class=\"dataframe\">\n",
       "  <thead>\n",
       "    <tr style=\"text-align: right;\">\n",
       "      <th></th>\n",
       "      <th>Year</th>\n",
       "      <th>Year ending</th>\n",
       "      <th>Local Government Area</th>\n",
       "      <th>Postcode</th>\n",
       "      <th>Suburb</th>\n",
       "      <th>Offence Division</th>\n",
       "      <th>Offence Subdivision</th>\n",
       "      <th>Offence Subgroup</th>\n",
       "      <th>Incidents Recorded</th>\n",
       "    </tr>\n",
       "  </thead>\n",
       "  <tbody>\n",
       "    <tr>\n",
       "      <th>23601</th>\n",
       "      <td>2020</td>\n",
       "      <td>December</td>\n",
       "      <td>Monash</td>\n",
       "      <td>3800</td>\n",
       "      <td>Monash University</td>\n",
       "      <td>A Crimes against the person</td>\n",
       "      <td>A20 Assault and related offences</td>\n",
       "      <td>A232 Non-FV Common assault</td>\n",
       "      <td>2</td>\n",
       "    </tr>\n",
       "    <tr>\n",
       "      <th>23602</th>\n",
       "      <td>2020</td>\n",
       "      <td>December</td>\n",
       "      <td>Monash</td>\n",
       "      <td>3800</td>\n",
       "      <td>Monash University</td>\n",
       "      <td>A Crimes against the person</td>\n",
       "      <td>A50 Robbery</td>\n",
       "      <td>A51 Aggravated robbery</td>\n",
       "      <td>1</td>\n",
       "    </tr>\n",
       "    <tr>\n",
       "      <th>23603</th>\n",
       "      <td>2020</td>\n",
       "      <td>December</td>\n",
       "      <td>Monash</td>\n",
       "      <td>3800</td>\n",
       "      <td>Monash University</td>\n",
       "      <td>A Crimes against the person</td>\n",
       "      <td>A70 Stalking, harassment and threatening behav...</td>\n",
       "      <td>A712 Non-FV Stalking</td>\n",
       "      <td>1</td>\n",
       "    </tr>\n",
       "    <tr>\n",
       "      <th>23604</th>\n",
       "      <td>2020</td>\n",
       "      <td>December</td>\n",
       "      <td>Monash</td>\n",
       "      <td>3800</td>\n",
       "      <td>Monash University</td>\n",
       "      <td>A Crimes against the person</td>\n",
       "      <td>A70 Stalking, harassment and threatening behav...</td>\n",
       "      <td>A722 Non-FV Harassment and private nuisance</td>\n",
       "      <td>2</td>\n",
       "    </tr>\n",
       "    <tr>\n",
       "      <th>23605</th>\n",
       "      <td>2020</td>\n",
       "      <td>December</td>\n",
       "      <td>Monash</td>\n",
       "      <td>3800</td>\n",
       "      <td>Monash University</td>\n",
       "      <td>A Crimes against the person</td>\n",
       "      <td>Other crimes against the person</td>\n",
       "      <td>Other crimes against the person</td>\n",
       "      <td>5</td>\n",
       "    </tr>\n",
       "  </tbody>\n",
       "</table>\n",
       "</div>"
      ],
      "text/plain": [
       "       Year Year ending Local Government Area  Postcode             Suburb  \\\n",
       "23601  2020    December                Monash      3800  Monash University   \n",
       "23602  2020    December                Monash      3800  Monash University   \n",
       "23603  2020    December                Monash      3800  Monash University   \n",
       "23604  2020    December                Monash      3800  Monash University   \n",
       "23605  2020    December                Monash      3800  Monash University   \n",
       "\n",
       "                  Offence Division  \\\n",
       "23601  A Crimes against the person   \n",
       "23602  A Crimes against the person   \n",
       "23603  A Crimes against the person   \n",
       "23604  A Crimes against the person   \n",
       "23605  A Crimes against the person   \n",
       "\n",
       "                                     Offence Subdivision  \\\n",
       "23601                   A20 Assault and related offences   \n",
       "23602                                        A50 Robbery   \n",
       "23603  A70 Stalking, harassment and threatening behav...   \n",
       "23604  A70 Stalking, harassment and threatening behav...   \n",
       "23605                    Other crimes against the person   \n",
       "\n",
       "                                  Offence Subgroup  Incidents Recorded  \n",
       "23601                   A232 Non-FV Common assault                   2  \n",
       "23602                       A51 Aggravated robbery                   1  \n",
       "23603                         A712 Non-FV Stalking                   1  \n",
       "23604  A722 Non-FV Harassment and private nuisance                   2  \n",
       "23605              Other crimes against the person                   5  "
      ]
     },
     "execution_count": 39,
     "metadata": {},
     "output_type": "execute_result"
    }
   ],
   "source": [
    "# change suburb(Postcode==3800)'s name from Clayton to Monash University\n",
    "victoria_crime_data.loc[victoria_crime_data['Postcode'] == 3800, 'Suburb'] = 'Monash University'\n",
    "victoria_crime_data[victoria_crime_data['Postcode'] == 3800].head()"
   ]
  },
  {
   "cell_type": "code",
   "execution_count": 40,
   "id": "68c4e2c4",
   "metadata": {},
   "outputs": [
    {
     "data": {
      "text/plain": [
       "(171120, 12)"
      ]
     },
     "execution_count": 40,
     "metadata": {},
     "output_type": "execute_result"
    }
   ],
   "source": [
    "# merge two dataset again to get crime records for Metro Melbourne\n",
    "melbourne_crime_data = victoria_crime_data.merge(melbourne_df_non_dup, how='right',left_on=['Suburb','Postcode'], right_on=['Suburb','Postcode'])\n",
    "melbourne_crime_data.shape"
   ]
  },
  {
   "cell_type": "code",
   "execution_count": 41,
   "id": "cee686cf",
   "metadata": {},
   "outputs": [
    {
     "data": {
      "text/html": [
       "<div>\n",
       "<style scoped>\n",
       "    .dataframe tbody tr th:only-of-type {\n",
       "        vertical-align: middle;\n",
       "    }\n",
       "\n",
       "    .dataframe tbody tr th {\n",
       "        vertical-align: top;\n",
       "    }\n",
       "\n",
       "    .dataframe thead th {\n",
       "        text-align: right;\n",
       "    }\n",
       "</style>\n",
       "<table border=\"1\" class=\"dataframe\">\n",
       "  <thead>\n",
       "    <tr style=\"text-align: right;\">\n",
       "      <th></th>\n",
       "      <th>index</th>\n",
       "      <th>Suburb</th>\n",
       "      <th>Postcode</th>\n",
       "    </tr>\n",
       "  </thead>\n",
       "  <tbody>\n",
       "    <tr>\n",
       "      <th>0</th>\n",
       "      <td>17256</td>\n",
       "      <td>Manor Lakes</td>\n",
       "      <td>3024</td>\n",
       "    </tr>\n",
       "    <tr>\n",
       "      <th>1</th>\n",
       "      <td>65906</td>\n",
       "      <td>Bend of Islands</td>\n",
       "      <td>3097</td>\n",
       "    </tr>\n",
       "    <tr>\n",
       "      <th>2</th>\n",
       "      <td>146433</td>\n",
       "      <td>Warburton East</td>\n",
       "      <td>3799</td>\n",
       "    </tr>\n",
       "    <tr>\n",
       "      <th>3</th>\n",
       "      <td>156995</td>\n",
       "      <td>HMAS Cerberus</td>\n",
       "      <td>3920</td>\n",
       "    </tr>\n",
       "    <tr>\n",
       "      <th>4</th>\n",
       "      <td>161232</td>\n",
       "      <td>Capel Sound</td>\n",
       "      <td>3940</td>\n",
       "    </tr>\n",
       "    <tr>\n",
       "      <th>5</th>\n",
       "      <td>166687</td>\n",
       "      <td>Tooradin North</td>\n",
       "      <td>3977</td>\n",
       "    </tr>\n",
       "    <tr>\n",
       "      <th>6</th>\n",
       "      <td>170750</td>\n",
       "      <td>Fraser Rise</td>\n",
       "      <td>3336</td>\n",
       "    </tr>\n",
       "    <tr>\n",
       "      <th>7</th>\n",
       "      <td>170751</td>\n",
       "      <td>Deanside</td>\n",
       "      <td>3336</td>\n",
       "    </tr>\n",
       "    <tr>\n",
       "      <th>8</th>\n",
       "      <td>171112</td>\n",
       "      <td>Fieldstone</td>\n",
       "      <td>3024</td>\n",
       "    </tr>\n",
       "    <tr>\n",
       "      <th>9</th>\n",
       "      <td>171113</td>\n",
       "      <td>Grangefields</td>\n",
       "      <td>3335</td>\n",
       "    </tr>\n",
       "    <tr>\n",
       "      <th>10</th>\n",
       "      <td>171114</td>\n",
       "      <td>Harkness</td>\n",
       "      <td>3337</td>\n",
       "    </tr>\n",
       "    <tr>\n",
       "      <th>11</th>\n",
       "      <td>171115</td>\n",
       "      <td>Strathtulloh</td>\n",
       "      <td>3338</td>\n",
       "    </tr>\n",
       "    <tr>\n",
       "      <th>12</th>\n",
       "      <td>171116</td>\n",
       "      <td>Weir Views</td>\n",
       "      <td>3338</td>\n",
       "    </tr>\n",
       "    <tr>\n",
       "      <th>13</th>\n",
       "      <td>171117</td>\n",
       "      <td>Thornhill Park</td>\n",
       "      <td>3335</td>\n",
       "    </tr>\n",
       "    <tr>\n",
       "      <th>14</th>\n",
       "      <td>171118</td>\n",
       "      <td>Cobblebank</td>\n",
       "      <td>3338</td>\n",
       "    </tr>\n",
       "    <tr>\n",
       "      <th>15</th>\n",
       "      <td>171119</td>\n",
       "      <td>Aintree</td>\n",
       "      <td>3336</td>\n",
       "    </tr>\n",
       "  </tbody>\n",
       "</table>\n",
       "</div>"
      ],
      "text/plain": [
       "     index           Suburb  Postcode\n",
       "0    17256      Manor Lakes      3024\n",
       "1    65906  Bend of Islands      3097\n",
       "2   146433   Warburton East      3799\n",
       "3   156995    HMAS Cerberus      3920\n",
       "4   161232      Capel Sound      3940\n",
       "5   166687   Tooradin North      3977\n",
       "6   170750      Fraser Rise      3336\n",
       "7   170751         Deanside      3336\n",
       "8   171112       Fieldstone      3024\n",
       "9   171113     Grangefields      3335\n",
       "10  171114         Harkness      3337\n",
       "11  171115     Strathtulloh      3338\n",
       "12  171116       Weir Views      3338\n",
       "13  171117   Thornhill Park      3335\n",
       "14  171118       Cobblebank      3338\n",
       "15  171119          Aintree      3336"
      ]
     },
     "execution_count": 41,
     "metadata": {},
     "output_type": "execute_result"
    }
   ],
   "source": [
    "# examine the remain suburbs with empty crime records.\n",
    "melbourne_crime_data[melbourne_crime_data['Incidents Recorded'].isnull()][['Suburb','Postcode']].reset_index()"
   ]
  },
  {
   "cell_type": "markdown",
   "id": "ffa4d32b",
   "metadata": {},
   "source": [
    "From the above results, it can be seen that there are still 15 suburbs without having crime records. By checking them on Google Maps individually, it is safe to say that these suburbs are not suitable for holding desired business activities since they are far from the central areas of Melbourne. Therefore, the suburbs having empty crime records will be ignored in this case. "
   ]
  },
  {
   "cell_type": "markdown",
   "id": "1f5d69f4",
   "metadata": {},
   "source": [
    "### Rental Dataset of Metropolitan Melbourne"
   ]
  },
  {
   "cell_type": "markdown",
   "id": "e58e5d59",
   "metadata": {},
   "source": [
    "In this section, the rental dataset of Metro Melbourne is extracted from the Victoria Rental Report. The reference link is shown below.\n",
    "\n",
    "https://www.dhhs.vic.gov.au/sites/default/files/documents/202103/Moving%20annual%20rent%20by%20suburb%20-%20December%20quarter%202020.xlsx"
   ]
  },
  {
   "cell_type": "code",
   "execution_count": 42,
   "id": "8b64a339",
   "metadata": {},
   "outputs": [],
   "source": [
    "# download the raw rental data\n",
    "# RENTAL_VIC_URL = 'https://www.dhhs.vic.gov.au/sites/default/files/documents/202103/Moving%20annual%20rent%20by%20suburb%20-%20December%20quarter%202020.xlsx'\n",
    "RENTAL_VIC_PATH = './datasets/raw_data/mel_rental.xlsx'\n",
    "SHEET_RENTAL_VIC_NAME = 'All properties'\n",
    "victoria_rental_raw = pd.read_excel(RENTAL_VIC_PATH,sheet_name=SHEET_RENTAL_VIC_NAME,header=[1,2])"
   ]
  },
  {
   "cell_type": "code",
   "execution_count": 43,
   "id": "fc6cbc5a",
   "metadata": {
    "scrolled": false
   },
   "outputs": [
    {
     "data": {
      "text/html": [
       "<div>\n",
       "<style scoped>\n",
       "    .dataframe tbody tr th:only-of-type {\n",
       "        vertical-align: middle;\n",
       "    }\n",
       "\n",
       "    .dataframe tbody tr th {\n",
       "        vertical-align: top;\n",
       "    }\n",
       "\n",
       "    .dataframe thead tr th {\n",
       "        text-align: left;\n",
       "    }\n",
       "</style>\n",
       "<table border=\"1\" class=\"dataframe\">\n",
       "  <thead>\n",
       "    <tr>\n",
       "      <th></th>\n",
       "      <th colspan=\"2\" halign=\"left\">All properties</th>\n",
       "      <th colspan=\"2\" halign=\"left\">Mar 2000</th>\n",
       "      <th colspan=\"2\" halign=\"left\">Jun 2000</th>\n",
       "      <th colspan=\"2\" halign=\"left\">Sep 2000</th>\n",
       "      <th colspan=\"2\" halign=\"left\">Dec 2000</th>\n",
       "      <th>...</th>\n",
       "      <th colspan=\"2\" halign=\"left\">Dec 2019</th>\n",
       "      <th colspan=\"2\" halign=\"left\">Mar 2020</th>\n",
       "      <th colspan=\"2\" halign=\"left\">Jun 2020</th>\n",
       "      <th colspan=\"2\" halign=\"left\">Sep 2020</th>\n",
       "      <th colspan=\"2\" halign=\"left\">Dec 2020</th>\n",
       "    </tr>\n",
       "    <tr>\n",
       "      <th></th>\n",
       "      <th>Unnamed: 0_level_1</th>\n",
       "      <th>Unnamed: 1_level_1</th>\n",
       "      <th>Count</th>\n",
       "      <th>Median</th>\n",
       "      <th>Count</th>\n",
       "      <th>Median</th>\n",
       "      <th>Count</th>\n",
       "      <th>Median</th>\n",
       "      <th>Count</th>\n",
       "      <th>Median</th>\n",
       "      <th>...</th>\n",
       "      <th>Count</th>\n",
       "      <th>Median</th>\n",
       "      <th>Count</th>\n",
       "      <th>Median</th>\n",
       "      <th>Count</th>\n",
       "      <th>Median</th>\n",
       "      <th>Count</th>\n",
       "      <th>Median</th>\n",
       "      <th>Count</th>\n",
       "      <th>Median</th>\n",
       "    </tr>\n",
       "  </thead>\n",
       "  <tbody>\n",
       "    <tr>\n",
       "      <th>0</th>\n",
       "      <td>Inner Melbourne</td>\n",
       "      <td>Albert Park-Middle Park-West St Kilda</td>\n",
       "      <td>1146</td>\n",
       "      <td>260</td>\n",
       "      <td>1136</td>\n",
       "      <td>260</td>\n",
       "      <td>1177</td>\n",
       "      <td>270</td>\n",
       "      <td>1176</td>\n",
       "      <td>275</td>\n",
       "      <td>...</td>\n",
       "      <td>848</td>\n",
       "      <td>595</td>\n",
       "      <td>852</td>\n",
       "      <td>600</td>\n",
       "      <td>826</td>\n",
       "      <td>585</td>\n",
       "      <td>798</td>\n",
       "      <td>560</td>\n",
       "      <td>829</td>\n",
       "      <td>550</td>\n",
       "    </tr>\n",
       "    <tr>\n",
       "      <th>1</th>\n",
       "      <td>NaN</td>\n",
       "      <td>Armadale</td>\n",
       "      <td>729</td>\n",
       "      <td>200</td>\n",
       "      <td>731</td>\n",
       "      <td>200</td>\n",
       "      <td>732</td>\n",
       "      <td>205</td>\n",
       "      <td>732</td>\n",
       "      <td>210</td>\n",
       "      <td>...</td>\n",
       "      <td>776</td>\n",
       "      <td>485</td>\n",
       "      <td>753</td>\n",
       "      <td>500</td>\n",
       "      <td>782</td>\n",
       "      <td>500</td>\n",
       "      <td>708</td>\n",
       "      <td>500</td>\n",
       "      <td>715</td>\n",
       "      <td>495</td>\n",
       "    </tr>\n",
       "    <tr>\n",
       "      <th>2</th>\n",
       "      <td>NaN</td>\n",
       "      <td>Carlton North</td>\n",
       "      <td>864</td>\n",
       "      <td>260</td>\n",
       "      <td>814</td>\n",
       "      <td>260</td>\n",
       "      <td>800</td>\n",
       "      <td>265</td>\n",
       "      <td>735</td>\n",
       "      <td>270</td>\n",
       "      <td>...</td>\n",
       "      <td>520</td>\n",
       "      <td>580</td>\n",
       "      <td>539</td>\n",
       "      <td>585</td>\n",
       "      <td>536</td>\n",
       "      <td>590</td>\n",
       "      <td>519</td>\n",
       "      <td>590</td>\n",
       "      <td>536</td>\n",
       "      <td>590</td>\n",
       "    </tr>\n",
       "    <tr>\n",
       "      <th>3</th>\n",
       "      <td>NaN</td>\n",
       "      <td>Carlton-Parkville</td>\n",
       "      <td>1344</td>\n",
       "      <td>260</td>\n",
       "      <td>1312</td>\n",
       "      <td>260</td>\n",
       "      <td>1306</td>\n",
       "      <td>260</td>\n",
       "      <td>1322</td>\n",
       "      <td>260</td>\n",
       "      <td>...</td>\n",
       "      <td>4606</td>\n",
       "      <td>420</td>\n",
       "      <td>5211</td>\n",
       "      <td>404</td>\n",
       "      <td>5023</td>\n",
       "      <td>400</td>\n",
       "      <td>4625</td>\n",
       "      <td>400</td>\n",
       "      <td>4655</td>\n",
       "      <td>399</td>\n",
       "    </tr>\n",
       "    <tr>\n",
       "      <th>4</th>\n",
       "      <td>NaN</td>\n",
       "      <td>CBD-St Kilda Rd</td>\n",
       "      <td>2138</td>\n",
       "      <td>320</td>\n",
       "      <td>2269</td>\n",
       "      <td>320</td>\n",
       "      <td>2362</td>\n",
       "      <td>320</td>\n",
       "      <td>2361</td>\n",
       "      <td>320</td>\n",
       "      <td>...</td>\n",
       "      <td>10840</td>\n",
       "      <td>510</td>\n",
       "      <td>10896</td>\n",
       "      <td>510</td>\n",
       "      <td>11022</td>\n",
       "      <td>495</td>\n",
       "      <td>11295</td>\n",
       "      <td>460</td>\n",
       "      <td>13146</td>\n",
       "      <td>420</td>\n",
       "    </tr>\n",
       "  </tbody>\n",
       "</table>\n",
       "<p>5 rows × 170 columns</p>\n",
       "</div>"
      ],
      "text/plain": [
       "      All properties                                        Mar 2000         \\\n",
       "  Unnamed: 0_level_1                     Unnamed: 1_level_1    Count Median   \n",
       "0    Inner Melbourne  Albert Park-Middle Park-West St Kilda     1146    260   \n",
       "1                NaN                               Armadale      729    200   \n",
       "2                NaN                          Carlton North      864    260   \n",
       "3                NaN                      Carlton-Parkville     1344    260   \n",
       "4                NaN                        CBD-St Kilda Rd     2138    320   \n",
       "\n",
       "  Jun 2000        Sep 2000        Dec 2000         ... Dec 2019         \\\n",
       "     Count Median    Count Median    Count Median  ...    Count Median   \n",
       "0     1136    260     1177    270     1176    275  ...      848    595   \n",
       "1      731    200      732    205      732    210  ...      776    485   \n",
       "2      814    260      800    265      735    270  ...      520    580   \n",
       "3     1312    260     1306    260     1322    260  ...     4606    420   \n",
       "4     2269    320     2362    320     2361    320  ...    10840    510   \n",
       "\n",
       "  Mar 2020        Jun 2020        Sep 2020        Dec 2020         \n",
       "     Count Median    Count Median    Count Median    Count Median  \n",
       "0      852    600      826    585      798    560      829    550  \n",
       "1      753    500      782    500      708    500      715    495  \n",
       "2      539    585      536    590      519    590      536    590  \n",
       "3     5211    404     5023    400     4625    400     4655    399  \n",
       "4    10896    510    11022    495    11295    460    13146    420  \n",
       "\n",
       "[5 rows x 170 columns]"
      ]
     },
     "execution_count": 43,
     "metadata": {},
     "output_type": "execute_result"
    }
   ],
   "source": [
    "victoria_rental_raw.head()"
   ]
  },
  {
   "cell_type": "code",
   "execution_count": 44,
   "id": "d4ca247c",
   "metadata": {},
   "outputs": [
    {
     "data": {
      "text/plain": [
       "(159, 170)"
      ]
     },
     "execution_count": 44,
     "metadata": {},
     "output_type": "execute_result"
    }
   ],
   "source": [
    "# check the shape of the dataset\n",
    "victoria_rental_raw.shape"
   ]
  },
  {
   "cell_type": "code",
   "execution_count": 45,
   "id": "3def0abd",
   "metadata": {},
   "outputs": [
    {
     "data": {
      "text/html": [
       "<div>\n",
       "<style scoped>\n",
       "    .dataframe tbody tr th:only-of-type {\n",
       "        vertical-align: middle;\n",
       "    }\n",
       "\n",
       "    .dataframe tbody tr th {\n",
       "        vertical-align: top;\n",
       "    }\n",
       "\n",
       "    .dataframe thead th {\n",
       "        text-align: right;\n",
       "    }\n",
       "</style>\n",
       "<table border=\"1\" class=\"dataframe\">\n",
       "  <thead>\n",
       "    <tr style=\"text-align: right;\">\n",
       "      <th></th>\n",
       "      <th>Suburb</th>\n",
       "      <th>Count</th>\n",
       "      <th>Median</th>\n",
       "      <th>Year</th>\n",
       "      <th>Year Ending</th>\n",
       "    </tr>\n",
       "  </thead>\n",
       "  <tbody>\n",
       "    <tr>\n",
       "      <th>0</th>\n",
       "      <td>Albert Park-Middle Park-West St Kilda</td>\n",
       "      <td>1146</td>\n",
       "      <td>260</td>\n",
       "      <td>2000</td>\n",
       "      <td>Mar</td>\n",
       "    </tr>\n",
       "    <tr>\n",
       "      <th>1</th>\n",
       "      <td>Armadale</td>\n",
       "      <td>729</td>\n",
       "      <td>200</td>\n",
       "      <td>2000</td>\n",
       "      <td>Mar</td>\n",
       "    </tr>\n",
       "    <tr>\n",
       "      <th>2</th>\n",
       "      <td>Carlton North</td>\n",
       "      <td>864</td>\n",
       "      <td>260</td>\n",
       "      <td>2000</td>\n",
       "      <td>Mar</td>\n",
       "    </tr>\n",
       "    <tr>\n",
       "      <th>3</th>\n",
       "      <td>Carlton-Parkville</td>\n",
       "      <td>1344</td>\n",
       "      <td>260</td>\n",
       "      <td>2000</td>\n",
       "      <td>Mar</td>\n",
       "    </tr>\n",
       "    <tr>\n",
       "      <th>4</th>\n",
       "      <td>CBD-St Kilda Rd</td>\n",
       "      <td>2138</td>\n",
       "      <td>320</td>\n",
       "      <td>2000</td>\n",
       "      <td>Mar</td>\n",
       "    </tr>\n",
       "  </tbody>\n",
       "</table>\n",
       "</div>"
      ],
      "text/plain": [
       "                                  Suburb Count Median  Year Year Ending\n",
       "0  Albert Park-Middle Park-West St Kilda  1146    260  2000         Mar\n",
       "1                               Armadale   729    200  2000         Mar\n",
       "2                          Carlton North   864    260  2000         Mar\n",
       "3                      Carlton-Parkville  1344    260  2000         Mar\n",
       "4                        CBD-St Kilda Rd  2138    320  2000         Mar"
      ]
     },
     "execution_count": 45,
     "metadata": {},
     "output_type": "execute_result"
    }
   ],
   "source": [
    "# re-organize the dataset and rename the columns\n",
    "\n",
    "# melt the mutil indexing table\n",
    "temp_data = pd.melt(victoria_rental_raw.iloc[:,1:])\n",
    "\n",
    "# create an empty list for storing temp data\n",
    "result_data= np.array([])\n",
    "\n",
    "# extract the suburb names\n",
    "names = np.array(temp_data.iloc[:159,2])\n",
    "\n",
    "# extract the Count and Median data for each suburb per year ending\n",
    "for i in range(1, temp_data.shape[0]//159,2):\n",
    "    count_data = np.c_[names, np.array(temp_data.iloc[159*i:159*(i+1),:])]\n",
    "    new_data = np.c_[count_data, np.array(temp_data.iloc[159*(i+1):159*(i+2),:])]\n",
    "    if i == 1:\n",
    "        result_data = new_data\n",
    "    else:\n",
    "        result_data = np.vstack((result_data,new_data))\n",
    "\n",
    "# use the result above to form a new dataframe\n",
    "new_df = pd.DataFrame(result_data,columns=['Suburb','Year_c','Count_name','Count','Year_m','Median_name','Median'])\n",
    "\n",
    "\n",
    "# drop the duplicated year column\n",
    "new_df = new_df.drop(columns='Year_m',axis=1)\n",
    "\n",
    "# seperate year and month\n",
    "month_data=[]\n",
    "year_data = []\n",
    "for i in range(new_df.shape[0]):\n",
    "    month, year = new_df['Year_c'][i].split(' ')\n",
    "    month_data.append(month)\n",
    "    year_data.append(year)\n",
    "\n",
    "# add them into new dataframe\n",
    "new_df['Year'] = year_data\n",
    "new_df['Year Ending'] = month_data\n",
    "\n",
    "# drop duplicated columns again\n",
    "new_df = new_df.drop(['Year_c','Count_name','Median_name'], axis=1)\n",
    "\n",
    "# given the dataframe a meaningful variable name\n",
    "victoria_rental_data = new_df\n",
    "victoria_rental_data.head()"
   ]
  },
  {
   "cell_type": "code",
   "execution_count": 46,
   "id": "26e6ab70",
   "metadata": {},
   "outputs": [],
   "source": [
    "# re-organize the dataset and clarify the column names\n",
    "# victoria_rental_data = pd.Series(victoria_rental_raw.iloc[:,1],name='Suburb')\n",
    "# year = 2000\n",
    "\n",
    "# for i in range(2,victoria_rental_raw.shape[1]-7,8):\n",
    "\n",
    "#     col_name = ['Count_Mar_{}'.format(year),\n",
    "#                     'Median_Mar_{}'.format(year),\n",
    "#                     'Count_Jun_{}'.format(year),\n",
    "#                     'Median_Jun_{}'.format(year),\n",
    "#                     'Count_Sep_{}'.format(year),\n",
    "#                     'Median_Sep_{}'.format(year),\n",
    "#                     'Count_Dec_{}'.format(year),\n",
    "#                     'Median_Dec_{}'.format(year),]\n",
    "#     temp_df = pd.DataFrame(np.array(victoria_rental_raw.iloc[:,i:i+8]),columns=col_name)\n",
    "#     victoria_rental_data = pd.concat([victoria_rental_data, temp_df],axis=1)\n",
    "#     year +=1\n",
    "    \n",
    "# victoria_rental_data.head()"
   ]
  },
  {
   "cell_type": "code",
   "execution_count": 47,
   "id": "1a2ea331",
   "metadata": {},
   "outputs": [
    {
     "data": {
      "text/plain": [
       "(13356, 5)"
      ]
     },
     "execution_count": 47,
     "metadata": {},
     "output_type": "execute_result"
    }
   ],
   "source": [
    "victoria_rental_data.shape"
   ]
  },
  {
   "cell_type": "code",
   "execution_count": 48,
   "id": "b41184d6",
   "metadata": {},
   "outputs": [
    {
     "data": {
      "text/plain": [
       "(12264, 5)"
      ]
     },
     "execution_count": 48,
     "metadata": {},
     "output_type": "execute_result"
    }
   ],
   "source": [
    "# delete rows called Group Total in the dataset\n",
    "victoria_rental_data = victoria_rental_data[victoria_rental_data['Suburb'] != 'Group Total']\n",
    "victoria_rental_data.shape"
   ]
  },
  {
   "cell_type": "markdown",
   "id": "25f7ca16",
   "metadata": {},
   "source": [
    "From the preliminary examination, it can be found that several small suburbs were combined together to represent the rental status in those local areas. To maintain the consistency with two prepared datasets above, the combined suburbs will be seperated into individual suburb. The rental counts for the local area will be divided evenly among each suburb. However, the median price will remain no change. "
   ]
  },
  {
   "cell_type": "code",
   "execution_count": 49,
   "id": "87e3eb91",
   "metadata": {
    "scrolled": true
   },
   "outputs": [],
   "source": [
    "# define a function to split the combine suburbs and evenly divide their rental counts\n",
    "\n",
    "def splitsuburbs(df):\n",
    "    # create a new dataframe\n",
    "    new_df = pd.DataFrame(columns=df.columns)\n",
    "    \n",
    "    # split the name\n",
    "    for i in range(df.shape[0]):\n",
    "        temp_name = re.split(r'-',df.iloc[i,0])\n",
    "        rest_data = np.array(df.iloc[i,1:])\n",
    "        \n",
    "        # if it is combined suburb\n",
    "        if len(temp_name)>=2:\n",
    "            temp_count = df.iloc[i,1] // len(temp_name)\n",
    "            rest_data = np.array(victoria_rental_data.iloc[i,2:])\n",
    "            for suburb in temp_name:\n",
    "                new_data =  pd.DataFrame(np.insert(np.insert(rest_data,0,suburb),1,temp_count).reshape(1,-1),\n",
    "                                     columns=df.columns)\n",
    "                new_df = new_df.append(new_data)\n",
    "        \n",
    "        # if it is a single suburb\n",
    "        else:\n",
    "            rest_data = np.array(df.iloc[i,1:])\n",
    "            new_data =  pd.DataFrame(np.insert(rest_data,0,temp_name).reshape(1,-1),columns=df.columns)\n",
    "            new_df = new_df.append(new_data)\n",
    "\n",
    "    return new_df"
   ]
  },
  {
   "cell_type": "code",
   "execution_count": 50,
   "id": "c60c1b74",
   "metadata": {},
   "outputs": [
    {
     "data": {
      "text/html": [
       "<div>\n",
       "<style scoped>\n",
       "    .dataframe tbody tr th:only-of-type {\n",
       "        vertical-align: middle;\n",
       "    }\n",
       "\n",
       "    .dataframe tbody tr th {\n",
       "        vertical-align: top;\n",
       "    }\n",
       "\n",
       "    .dataframe thead th {\n",
       "        text-align: right;\n",
       "    }\n",
       "</style>\n",
       "<table border=\"1\" class=\"dataframe\">\n",
       "  <thead>\n",
       "    <tr style=\"text-align: right;\">\n",
       "      <th></th>\n",
       "      <th>Suburb</th>\n",
       "      <th>Count</th>\n",
       "      <th>Median</th>\n",
       "      <th>Year</th>\n",
       "      <th>Year Ending</th>\n",
       "    </tr>\n",
       "  </thead>\n",
       "  <tbody>\n",
       "    <tr>\n",
       "      <th>0</th>\n",
       "      <td>Albert Park</td>\n",
       "      <td>382</td>\n",
       "      <td>260</td>\n",
       "      <td>2000</td>\n",
       "      <td>Mar</td>\n",
       "    </tr>\n",
       "    <tr>\n",
       "      <th>0</th>\n",
       "      <td>Middle Park</td>\n",
       "      <td>382</td>\n",
       "      <td>260</td>\n",
       "      <td>2000</td>\n",
       "      <td>Mar</td>\n",
       "    </tr>\n",
       "    <tr>\n",
       "      <th>0</th>\n",
       "      <td>West St Kilda</td>\n",
       "      <td>382</td>\n",
       "      <td>260</td>\n",
       "      <td>2000</td>\n",
       "      <td>Mar</td>\n",
       "    </tr>\n",
       "    <tr>\n",
       "      <th>0</th>\n",
       "      <td>Armadale</td>\n",
       "      <td>729</td>\n",
       "      <td>200</td>\n",
       "      <td>2000</td>\n",
       "      <td>Mar</td>\n",
       "    </tr>\n",
       "    <tr>\n",
       "      <th>0</th>\n",
       "      <td>Carlton North</td>\n",
       "      <td>864</td>\n",
       "      <td>260</td>\n",
       "      <td>2000</td>\n",
       "      <td>Mar</td>\n",
       "    </tr>\n",
       "  </tbody>\n",
       "</table>\n",
       "</div>"
      ],
      "text/plain": [
       "          Suburb Count Median  Year Year Ending\n",
       "0    Albert Park   382    260  2000         Mar\n",
       "0    Middle Park   382    260  2000         Mar\n",
       "0  West St Kilda   382    260  2000         Mar\n",
       "0       Armadale   729    200  2000         Mar\n",
       "0  Carlton North   864    260  2000         Mar"
      ]
     },
     "execution_count": 50,
     "metadata": {},
     "output_type": "execute_result"
    }
   ],
   "source": [
    "victoria_rental_data_processed = splitsuburbs(victoria_rental_data)\n",
    "victoria_rental_data_processed.head()"
   ]
  },
  {
   "cell_type": "code",
   "execution_count": 51,
   "id": "fa4b2546",
   "metadata": {},
   "outputs": [
    {
     "data": {
      "text/plain": [
       "(18060, 5)"
      ]
     },
     "execution_count": 51,
     "metadata": {},
     "output_type": "execute_result"
    }
   ],
   "source": [
    "victoria_rental_data_processed.shape"
   ]
  },
  {
   "cell_type": "markdown",
   "id": "f7ab4701",
   "metadata": {},
   "source": [
    "To ensure consistency, few suburbs' names found in rental data need to be changed."
   ]
  },
  {
   "cell_type": "code",
   "execution_count": 52,
   "id": "bd27e06d",
   "metadata": {},
   "outputs": [],
   "source": [
    "victoria_rental_data_processed.replace('CBD', 'Melbourne', inplace=True)\n",
    "victoria_rental_data_processed.replace('West St Kilda', 'St Kilda West', inplace=True)\n",
    "victoria_rental_data_processed.replace('East St Kilda', 'St Kilda East', inplace=True)"
   ]
  },
  {
   "cell_type": "code",
   "execution_count": null,
   "id": "1038de90",
   "metadata": {},
   "outputs": [],
   "source": []
  },
  {
   "cell_type": "code",
   "execution_count": 53,
   "id": "a7054136",
   "metadata": {},
   "outputs": [
    {
     "data": {
      "text/html": [
       "<div>\n",
       "<style scoped>\n",
       "    .dataframe tbody tr th:only-of-type {\n",
       "        vertical-align: middle;\n",
       "    }\n",
       "\n",
       "    .dataframe tbody tr th {\n",
       "        vertical-align: top;\n",
       "    }\n",
       "\n",
       "    .dataframe thead th {\n",
       "        text-align: right;\n",
       "    }\n",
       "</style>\n",
       "<table border=\"1\" class=\"dataframe\">\n",
       "  <thead>\n",
       "    <tr style=\"text-align: right;\">\n",
       "      <th></th>\n",
       "      <th>Suburb</th>\n",
       "      <th>Count</th>\n",
       "      <th>Median</th>\n",
       "      <th>Year</th>\n",
       "      <th>Year Ending</th>\n",
       "      <th>Postcode</th>\n",
       "      <th>Council</th>\n",
       "      <th>Latitude</th>\n",
       "      <th>Longitude</th>\n",
       "    </tr>\n",
       "  </thead>\n",
       "  <tbody>\n",
       "    <tr>\n",
       "      <th>0</th>\n",
       "      <td>Melbourne</td>\n",
       "      <td>1069</td>\n",
       "      <td>320</td>\n",
       "      <td>2000</td>\n",
       "      <td>Mar</td>\n",
       "      <td>3000</td>\n",
       "      <td>City of Melbourne</td>\n",
       "      <td>-37.8142176</td>\n",
       "      <td>144.9631608</td>\n",
       "    </tr>\n",
       "    <tr>\n",
       "      <th>1</th>\n",
       "      <td>Melbourne</td>\n",
       "      <td>1134</td>\n",
       "      <td>320</td>\n",
       "      <td>2000</td>\n",
       "      <td>Jun</td>\n",
       "      <td>3000</td>\n",
       "      <td>City of Melbourne</td>\n",
       "      <td>-37.8142176</td>\n",
       "      <td>144.9631608</td>\n",
       "    </tr>\n",
       "    <tr>\n",
       "      <th>2</th>\n",
       "      <td>Melbourne</td>\n",
       "      <td>1181</td>\n",
       "      <td>320</td>\n",
       "      <td>2000</td>\n",
       "      <td>Sep</td>\n",
       "      <td>3000</td>\n",
       "      <td>City of Melbourne</td>\n",
       "      <td>-37.8142176</td>\n",
       "      <td>144.9631608</td>\n",
       "    </tr>\n",
       "    <tr>\n",
       "      <th>3</th>\n",
       "      <td>Melbourne</td>\n",
       "      <td>1180</td>\n",
       "      <td>320</td>\n",
       "      <td>2000</td>\n",
       "      <td>Dec</td>\n",
       "      <td>3000</td>\n",
       "      <td>City of Melbourne</td>\n",
       "      <td>-37.8142176</td>\n",
       "      <td>144.9631608</td>\n",
       "    </tr>\n",
       "    <tr>\n",
       "      <th>4</th>\n",
       "      <td>Melbourne</td>\n",
       "      <td>1293</td>\n",
       "      <td>320</td>\n",
       "      <td>2001</td>\n",
       "      <td>Mar</td>\n",
       "      <td>3000</td>\n",
       "      <td>City of Melbourne</td>\n",
       "      <td>-37.8142176</td>\n",
       "      <td>144.9631608</td>\n",
       "    </tr>\n",
       "  </tbody>\n",
       "</table>\n",
       "</div>"
      ],
      "text/plain": [
       "      Suburb Count Median  Year Year Ending  Postcode            Council  \\\n",
       "0  Melbourne  1069    320  2000         Mar      3000  City of Melbourne   \n",
       "1  Melbourne  1134    320  2000         Jun      3000  City of Melbourne   \n",
       "2  Melbourne  1181    320  2000         Sep      3000  City of Melbourne   \n",
       "3  Melbourne  1180    320  2000         Dec      3000  City of Melbourne   \n",
       "4  Melbourne  1293    320  2001         Mar      3000  City of Melbourne   \n",
       "\n",
       "      Latitude    Longitude  \n",
       "0  -37.8142176  144.9631608  \n",
       "1  -37.8142176  144.9631608  \n",
       "2  -37.8142176  144.9631608  \n",
       "3  -37.8142176  144.9631608  \n",
       "4  -37.8142176  144.9631608  "
      ]
     },
     "execution_count": 53,
     "metadata": {},
     "output_type": "execute_result"
    }
   ],
   "source": [
    "# merge with geographical data of metro melbourne to obtain the rental data for metro melbourne\n",
    "melbourne_rental_data = victoria_rental_data_processed.merge(melbourne_df_non_dup,how='right',on=['Suburb'])\n",
    "melbourne_rental_data.head()"
   ]
  },
  {
   "cell_type": "code",
   "execution_count": 54,
   "id": "b20a9243",
   "metadata": {},
   "outputs": [
    {
     "data": {
      "text/plain": [
       "(13991, 9)"
      ]
     },
     "execution_count": 54,
     "metadata": {},
     "output_type": "execute_result"
    }
   ],
   "source": [
    "melbourne_rental_data.shape"
   ]
  },
  {
   "cell_type": "code",
   "execution_count": 55,
   "id": "a1e1c278",
   "metadata": {
    "scrolled": false
   },
   "outputs": [
    {
     "data": {
      "text/plain": [
       "383"
      ]
     },
     "execution_count": 55,
     "metadata": {},
     "output_type": "execute_result"
    }
   ],
   "source": [
    "# number of suburbs without rental data\n",
    "melbourne_rental_data[melbourne_rental_data.iloc[:,1].isnull()]['Suburb'].count()"
   ]
  },
  {
   "cell_type": "code",
   "execution_count": 56,
   "id": "2e889f98",
   "metadata": {},
   "outputs": [
    {
     "data": {
      "text/plain": [
       "False"
      ]
     },
     "execution_count": 56,
     "metadata": {},
     "output_type": "execute_result"
    }
   ],
   "source": [
    "melbourne_rental_data['Suburb'].isnull().any()\n",
    "    \n",
    "    "
   ]
  },
  {
   "cell_type": "code",
   "execution_count": null,
   "id": "415b6253",
   "metadata": {},
   "outputs": [],
   "source": []
  },
  {
   "cell_type": "markdown",
   "id": "2cb7dde7",
   "metadata": {},
   "source": [
    "### Venues in Metro Melbourne"
   ]
  },
  {
   "cell_type": "markdown",
   "id": "e829b523",
   "metadata": {},
   "source": [
    "In this section, the veunes of each suburb in Metro Melbourne were collected using Foursquare API. Since a free Foursquare dev. account was used in this project which only allows to make 100-item-per-API-call. Unfortunately, the maximum number of venues in each suburb was capped at 100 venues."
   ]
  },
  {
   "cell_type": "code",
   "execution_count": 57,
   "id": "24e8fd1a",
   "metadata": {},
   "outputs": [
    {
     "name": "stdout",
     "output_type": "stream",
     "text": [
      "Your credentails:\n",
      "CLIENT_ID: LEDK5OOKF4IRDV30JKIFZ0B1T5T3CRTN1PAFIEDI3XUACT5C\n",
      "CLIENT_SECRET:DEK45GQV3YIOEKRFKYZ04FAVVYSQ1MCZFF1L54UAVKNJUZ3I\n"
     ]
    }
   ],
   "source": [
    "# define Foursquare Credentials and Version\n",
    "CLIENT_ID = 'LEDK5OOKF4IRDV30JKIFZ0B1T5T3CRTN1PAFIEDI3XUACT5C' # your Foursquare ID\n",
    "CLIENT_SECRET = 'DEK45GQV3YIOEKRFKYZ04FAVVYSQ1MCZFF1L54UAVKNJUZ3I' # your Foursquare Secret\n",
    "VERSION = '20180605' # Foursquare API version\n",
    "LIMIT = 100 # A default Foursquare API limit value\n",
    "\n",
    "print('Your credentails:')\n",
    "print('CLIENT_ID: ' + CLIENT_ID)\n",
    "print('CLIENT_SECRET:' + CLIENT_SECRET)"
   ]
  },
  {
   "cell_type": "code",
   "execution_count": 58,
   "id": "8d71d5de",
   "metadata": {},
   "outputs": [],
   "source": [
    "# define a function to call Foursquare API and extracting venue information in given coordinates\n",
    "def getNearbyVenues(names, latitudes, longitudes, radius=500):\n",
    "    \n",
    "    venues_list=[]\n",
    "    for name, lat, lng in zip(names, latitudes, longitudes):\n",
    "#         print(name)\n",
    "            \n",
    "        # create the API request URL\n",
    "        url = 'https://api.foursquare.com/v2/venues/explore?&client_id={}&client_secret={}&v={}&ll={},{}&radius={}&limit={}'.format(\n",
    "            CLIENT_ID, \n",
    "            CLIENT_SECRET, \n",
    "            VERSION, \n",
    "            lat, \n",
    "            lng, \n",
    "            radius, \n",
    "            LIMIT)\n",
    "            \n",
    "        # make the GET request\n",
    "        results = requests.get(url).json()[\"response\"]['groups'][0]['items']\n",
    "        \n",
    "        # return only relevant information for each nearby venue\n",
    "        venues_list.append([(\n",
    "            name, \n",
    "            lat, \n",
    "            lng, \n",
    "            v['venue']['name'], \n",
    "            v['venue']['location']['lat'], \n",
    "            v['venue']['location']['lng'],  \n",
    "            v['venue']['categories'][0]['name']) for v in results])\n",
    "\n",
    "    nearby_venues = pd.DataFrame([item for venue_list in venues_list for item in venue_list])\n",
    "    nearby_venues.columns = ['Suburb', \n",
    "                  'Suburb Latitude', \n",
    "                  'Suburb Longitude', \n",
    "                  'Venue', \n",
    "                  'Venue Latitude', \n",
    "                  'Venue Longitude', \n",
    "                  'Venue Category']\n",
    "    \n",
    "    return(nearby_venues)"
   ]
  },
  {
   "cell_type": "code",
   "execution_count": 59,
   "id": "2c5008fb",
   "metadata": {},
   "outputs": [],
   "source": [
    "# create a dataframe for venues in Metro Melbourne\n",
    "melbourne_venue_data = getNearbyVenues(melbourne_df_non_dup['Suburb'],\n",
    "                                       melbourne_df_non_dup['Latitude'],\n",
    "                                       melbourne_df_non_dup['Longitude'])"
   ]
  },
  {
   "cell_type": "code",
   "execution_count": 60,
   "id": "94948350",
   "metadata": {
    "scrolled": true
   },
   "outputs": [
    {
     "data": {
      "text/html": [
       "<div>\n",
       "<style scoped>\n",
       "    .dataframe tbody tr th:only-of-type {\n",
       "        vertical-align: middle;\n",
       "    }\n",
       "\n",
       "    .dataframe tbody tr th {\n",
       "        vertical-align: top;\n",
       "    }\n",
       "\n",
       "    .dataframe thead th {\n",
       "        text-align: right;\n",
       "    }\n",
       "</style>\n",
       "<table border=\"1\" class=\"dataframe\">\n",
       "  <thead>\n",
       "    <tr style=\"text-align: right;\">\n",
       "      <th></th>\n",
       "      <th>Suburb</th>\n",
       "      <th>Suburb Latitude</th>\n",
       "      <th>Suburb Longitude</th>\n",
       "      <th>Venue</th>\n",
       "      <th>Venue Latitude</th>\n",
       "      <th>Venue Longitude</th>\n",
       "      <th>Venue Category</th>\n",
       "    </tr>\n",
       "  </thead>\n",
       "  <tbody>\n",
       "    <tr>\n",
       "      <th>0</th>\n",
       "      <td>Melbourne</td>\n",
       "      <td>-37.8142176</td>\n",
       "      <td>144.9631608</td>\n",
       "      <td>Tipo 00</td>\n",
       "      <td>-37.813527</td>\n",
       "      <td>144.961978</td>\n",
       "      <td>Italian Restaurant</td>\n",
       "    </tr>\n",
       "    <tr>\n",
       "      <th>1</th>\n",
       "      <td>Melbourne</td>\n",
       "      <td>-37.8142176</td>\n",
       "      <td>144.9631608</td>\n",
       "      <td>Royal St. Collins</td>\n",
       "      <td>-37.815363</td>\n",
       "      <td>144.964899</td>\n",
       "      <td>Dessert Shop</td>\n",
       "    </tr>\n",
       "    <tr>\n",
       "      <th>2</th>\n",
       "      <td>Melbourne</td>\n",
       "      <td>-37.8142176</td>\n",
       "      <td>144.9631608</td>\n",
       "      <td>Trattoria Emilia</td>\n",
       "      <td>-37.815220</td>\n",
       "      <td>144.962636</td>\n",
       "      <td>Italian Restaurant</td>\n",
       "    </tr>\n",
       "    <tr>\n",
       "      <th>3</th>\n",
       "      <td>Melbourne</td>\n",
       "      <td>-37.8142176</td>\n",
       "      <td>144.9631608</td>\n",
       "      <td>Kirk's Wine Bar</td>\n",
       "      <td>-37.813661</td>\n",
       "      <td>144.961351</td>\n",
       "      <td>Wine Bar</td>\n",
       "    </tr>\n",
       "    <tr>\n",
       "      <th>4</th>\n",
       "      <td>Melbourne</td>\n",
       "      <td>-37.8142176</td>\n",
       "      <td>144.9631608</td>\n",
       "      <td>Brother Baba Budan</td>\n",
       "      <td>-37.813445</td>\n",
       "      <td>144.962137</td>\n",
       "      <td>Coffee Shop</td>\n",
       "    </tr>\n",
       "  </tbody>\n",
       "</table>\n",
       "</div>"
      ],
      "text/plain": [
       "      Suburb Suburb Latitude Suburb Longitude               Venue  \\\n",
       "0  Melbourne     -37.8142176      144.9631608             Tipo 00   \n",
       "1  Melbourne     -37.8142176      144.9631608   Royal St. Collins   \n",
       "2  Melbourne     -37.8142176      144.9631608    Trattoria Emilia   \n",
       "3  Melbourne     -37.8142176      144.9631608     Kirk's Wine Bar   \n",
       "4  Melbourne     -37.8142176      144.9631608  Brother Baba Budan   \n",
       "\n",
       "   Venue Latitude  Venue Longitude      Venue Category  \n",
       "0      -37.813527       144.961978  Italian Restaurant  \n",
       "1      -37.815363       144.964899        Dessert Shop  \n",
       "2      -37.815220       144.962636  Italian Restaurant  \n",
       "3      -37.813661       144.961351            Wine Bar  \n",
       "4      -37.813445       144.962137         Coffee Shop  "
      ]
     },
     "execution_count": 60,
     "metadata": {},
     "output_type": "execute_result"
    }
   ],
   "source": [
    "melbourne_venue_data.head()"
   ]
  },
  {
   "cell_type": "code",
   "execution_count": 61,
   "id": "f4fd0ad1",
   "metadata": {},
   "outputs": [
    {
     "name": "stdout",
     "output_type": "stream",
     "text": [
      "<class 'pandas.core.frame.DataFrame'>\n",
      "RangeIndex: 3711 entries, 0 to 3710\n",
      "Data columns (total 7 columns):\n",
      " #   Column            Non-Null Count  Dtype  \n",
      "---  ------            --------------  -----  \n",
      " 0   Suburb            3711 non-null   object \n",
      " 1   Suburb Latitude   3711 non-null   object \n",
      " 2   Suburb Longitude  3711 non-null   object \n",
      " 3   Venue             3711 non-null   object \n",
      " 4   Venue Latitude    3711 non-null   float64\n",
      " 5   Venue Longitude   3711 non-null   float64\n",
      " 6   Venue Category    3711 non-null   object \n",
      "dtypes: float64(2), object(5)\n",
      "memory usage: 203.1+ KB\n"
     ]
    }
   ],
   "source": [
    "melbourne_venue_data.info()"
   ]
  },
  {
   "cell_type": "code",
   "execution_count": null,
   "id": "2b57df8e",
   "metadata": {},
   "outputs": [],
   "source": []
  },
  {
   "cell_type": "markdown",
   "id": "95d6ee31",
   "metadata": {},
   "source": [
    "## 4. Saving Datesets into CSV files"
   ]
  },
  {
   "cell_type": "markdown",
   "id": "2baa7478",
   "metadata": {},
   "source": [
    "In this section, the prepared datasets were saved as .csv in ./datasets folder "
   ]
  },
  {
   "cell_type": "code",
   "execution_count": 62,
   "id": "75df5fb7",
   "metadata": {},
   "outputs": [],
   "source": [
    "def save_dataset(filename):\n",
    "    return os.path.join(DATASETS_PATH,filename)"
   ]
  },
  {
   "cell_type": "code",
   "execution_count": 63,
   "id": "dde5dfc2",
   "metadata": {
    "scrolled": true
   },
   "outputs": [],
   "source": [
    "# save prepared datasets\n",
    "melbourne_df_non_dup.to_csv(save_dataset('geo_data_mel.csv'))\n",
    "melbourne_crime_data.to_csv(save_dataset('crime_data_mel.csv'))\n",
    "melbourne_rental_data.to_csv(save_dataset('rental_data_mel.csv'))\n",
    "melbourne_venue_data.to_csv(save_dataset('venue_data_mel.csv'))"
   ]
  },
  {
   "cell_type": "code",
   "execution_count": null,
   "id": "67032cb1",
   "metadata": {},
   "outputs": [],
   "source": []
  }
 ],
 "metadata": {
  "kernelspec": {
   "display_name": "Python 3",
   "language": "python",
   "name": "python3"
  },
  "language_info": {
   "codemirror_mode": {
    "name": "ipython",
    "version": 3
   },
   "file_extension": ".py",
   "mimetype": "text/x-python",
   "name": "python",
   "nbconvert_exporter": "python",
   "pygments_lexer": "ipython3",
   "version": "3.8.8"
  }
 },
 "nbformat": 4,
 "nbformat_minor": 5
}
